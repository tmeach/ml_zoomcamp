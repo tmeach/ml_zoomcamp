{
 "cells": [
  {
   "cell_type": "markdown",
   "id": "ac49f1d2-c525-42f2-9523-2f36b92efc16",
   "metadata": {},
   "source": [
    "## Dataset"
   ]
  },
  {
   "cell_type": "markdown",
   "id": "b671e8f0-0c38-4d88-a538-7d92123ea304",
   "metadata": {},
   "source": [
    "In this homework, we'll build a model for predicting if we have an image of a bee or a wasp. For this, we will use the \"Bee or Wasp?\" dataset that was obtained from Kaggle and slightly rebuilt.\n",
    "\n",
    "You can download the dataset for this homework from [here](https://github.com/SVizor42/ML_Zoomcamp/releases/download/bee-wasp-data/data.zip):"
   ]
  },
  {
   "cell_type": "markdown",
   "id": "d346f35f-87bd-4001-8a35-87d94bfbbfb1",
   "metadata": {},
   "source": [
    "In the lectures we saw how to use a pre-trained neural network. In the homework, we'll train a much smaller model from scratch."
   ]
  },
  {
   "cell_type": "markdown",
   "id": "9018668d-5b75-4a8a-8447-abd219c29d8d",
   "metadata": {},
   "source": [
    "## Data Preparation\n",
    "The dataset contains around 2500 images of bees and around 2100 images of wasps.\n",
    "\n",
    "The dataset contains separate folders for training and test sets."
   ]
  },
  {
   "cell_type": "markdown",
   "id": "74975573-9cc7-4703-a058-4f416abe4631",
   "metadata": {},
   "source": [
    "## Model\n",
    "For this homework we will use Convolutional Neural Network (CNN). Like in the lectures, we'll use Keras.\n",
    "\n",
    "You need to develop the model with following structure:\n",
    "\n",
    "- The shape for input should be (150, 150, 3)\n",
    "- Next, create a convolutional layer (Conv2D):\n",
    "    - Use 32 filters\n",
    "    - Kernel size should be (3, 3) (that's the size of the filter)\n",
    "    - Use 'relu' as activation\n",
    "- Reduce the size of the feature map with max pooling (MaxPooling2D)\n",
    "     - Set the pooling size to (2, 2)\n",
    "- Turn the multi-dimensional result into vectors using a Flatten layer\n",
    "- Next, add a Dense layer with 64 neurons and 'relu' activation\n",
    "- Finally, create the Dense layer with 1 neuron - this will be the output\n",
    "    - The output layer should have an activation - use the appropriate activation for the binary classification case\n",
    "- As optimizer use SGD with the following parameters:\n",
    "    - SGD(lr=0.002, momentum=0.8)"
   ]
  },
  {
   "cell_type": "markdown",
   "id": "cbafde74-edea-4aee-8ec5-610985918a09",
   "metadata": {},
   "source": [
    "### Develop a model"
   ]
  },
  {
   "cell_type": "markdown",
   "id": "029c0ccb-7bd4-4cd8-a9a7-e8bffb14ff7c",
   "metadata": {
    "execution": {
     "iopub.execute_input": "2023-11-20T19:21:08.386680Z",
     "iopub.status.busy": "2023-11-20T19:21:08.386260Z",
     "iopub.status.idle": "2023-11-20T19:21:08.390075Z",
     "shell.execute_reply": "2023-11-20T19:21:08.389426Z",
     "shell.execute_reply.started": "2023-11-20T19:21:08.386612Z"
    }
   },
   "source": [
    "##### Import libraries"
   ]
  },
  {
   "cell_type": "code",
   "execution_count": 33,
   "id": "1bc18c3e-b2f3-4d64-91dd-6dc5446f1d1e",
   "metadata": {
    "execution": {
     "iopub.execute_input": "2023-11-20T20:02:23.992152Z",
     "iopub.status.busy": "2023-11-20T20:02:23.991762Z",
     "iopub.status.idle": "2023-11-20T20:02:23.997967Z",
     "shell.execute_reply": "2023-11-20T20:02:23.997220Z",
     "shell.execute_reply.started": "2023-11-20T20:02:23.992128Z"
    },
    "tags": []
   },
   "outputs": [],
   "source": [
    "import numpy as np \n",
    "import matplotlib.pyplot as plt \n",
    "\n",
    "%matplotlib inline\n",
    "\n",
    "import tensorflow as tf\n",
    "from tensorflow import keras\n",
    "\n",
    "from tensorflow.keras import layers\n",
    "from tensorflow.keras import models\n",
    "from tensorflow.keras import optimizers\n",
    "\n",
    "from tensorflow.keras.preprocessing.image import ImageDataGenerator\n",
    "from tensorflow.keras.preprocessing import image"
   ]
  },
  {
   "cell_type": "markdown",
   "id": "d8e0cc4f-0344-4481-a1bf-7fbc6caab7a3",
   "metadata": {},
   "source": [
    "##### Create model Sequential object and assign it to model variable. This object I'll use for develop and train neural network further."
   ]
  },
  {
   "cell_type": "code",
   "execution_count": 20,
   "id": "4cdc7fbe-0414-4b25-a296-3b95aa02f029",
   "metadata": {
    "execution": {
     "iopub.execute_input": "2023-11-20T19:35:19.729839Z",
     "iopub.status.busy": "2023-11-20T19:35:19.729441Z",
     "iopub.status.idle": "2023-11-20T19:35:19.735613Z",
     "shell.execute_reply": "2023-11-20T19:35:19.734821Z",
     "shell.execute_reply.started": "2023-11-20T19:35:19.729814Z"
    },
    "tags": []
   },
   "outputs": [],
   "source": [
    "model = models.Sequential()"
   ]
  },
  {
   "cell_type": "markdown",
   "id": "84635a96-a0f3-4596-899c-f2b616ad2862",
   "metadata": {},
   "source": [
    "##### Addd Conv2D Layer"
   ]
  },
  {
   "cell_type": "code",
   "execution_count": 21,
   "id": "43d70124-0e78-465c-95aa-e8c93ae0acfd",
   "metadata": {
    "execution": {
     "iopub.execute_input": "2023-11-20T19:35:21.415753Z",
     "iopub.status.busy": "2023-11-20T19:35:21.415378Z",
     "iopub.status.idle": "2023-11-20T19:35:21.430105Z",
     "shell.execute_reply": "2023-11-20T19:35:21.429505Z",
     "shell.execute_reply.started": "2023-11-20T19:35:21.415730Z"
    }
   },
   "outputs": [],
   "source": [
    "model.add(layers.Conv2D(32, (3, 3), activation='relu',\n",
    "                        input_shape=(150, 150, 3)))"
   ]
  },
  {
   "cell_type": "markdown",
   "id": "6f22b3cb-b7a4-4903-baac-11cf66d982d7",
   "metadata": {},
   "source": [
    "##### Add MaxPooking Layer"
   ]
  },
  {
   "cell_type": "code",
   "execution_count": 22,
   "id": "2ff3d765-1f07-4c4e-b0c4-4071f07f0fd2",
   "metadata": {
    "execution": {
     "iopub.execute_input": "2023-11-20T19:35:22.984008Z",
     "iopub.status.busy": "2023-11-20T19:35:22.983621Z",
     "iopub.status.idle": "2023-11-20T19:35:22.991855Z",
     "shell.execute_reply": "2023-11-20T19:35:22.991036Z",
     "shell.execute_reply.started": "2023-11-20T19:35:22.983982Z"
    }
   },
   "outputs": [],
   "source": [
    "model.add(layers.MaxPooling2D((2, 2)))"
   ]
  },
  {
   "cell_type": "markdown",
   "id": "26279d83-339b-4940-bfb8-2f7db1f51ae5",
   "metadata": {},
   "source": [
    "##### Then Flatten"
   ]
  },
  {
   "cell_type": "code",
   "execution_count": 23,
   "id": "3a2e9572-f7cd-457c-a53f-88bcf1d3eafc",
   "metadata": {
    "execution": {
     "iopub.execute_input": "2023-11-20T19:35:24.281026Z",
     "iopub.status.busy": "2023-11-20T19:35:24.280649Z",
     "iopub.status.idle": "2023-11-20T19:35:24.289096Z",
     "shell.execute_reply": "2023-11-20T19:35:24.288470Z",
     "shell.execute_reply.started": "2023-11-20T19:35:24.281003Z"
    }
   },
   "outputs": [],
   "source": [
    "model.add(layers.Flatten())"
   ]
  },
  {
   "cell_type": "markdown",
   "id": "7dd62a25-bdbc-4095-a4c5-96c46bb22165",
   "metadata": {},
   "source": [
    "##### Dense Layer"
   ]
  },
  {
   "cell_type": "code",
   "execution_count": 24,
   "id": "d74f4c5a-74d4-4782-aa6d-f637b84057bb",
   "metadata": {
    "execution": {
     "iopub.execute_input": "2023-11-20T19:35:25.341589Z",
     "iopub.status.busy": "2023-11-20T19:35:25.341203Z",
     "iopub.status.idle": "2023-11-20T19:35:25.359669Z",
     "shell.execute_reply": "2023-11-20T19:35:25.359024Z",
     "shell.execute_reply.started": "2023-11-20T19:35:25.341564Z"
    }
   },
   "outputs": [],
   "source": [
    "model.add(layers.Dense(64, activation='relu'))\n",
    "model.add(layers.Dense(1, activation='sigmoid'))"
   ]
  },
  {
   "cell_type": "markdown",
   "id": "2c503188-330a-4dfd-a1e3-877a61dec2fa",
   "metadata": {},
   "source": [
    "##### Optimizer"
   ]
  },
  {
   "cell_type": "code",
   "execution_count": 25,
   "id": "34a5a4f9-32dd-4db3-84b3-9fd73868cf87",
   "metadata": {
    "execution": {
     "iopub.execute_input": "2023-11-20T19:35:26.863717Z",
     "iopub.status.busy": "2023-11-20T19:35:26.863333Z",
     "iopub.status.idle": "2023-11-20T19:35:26.871848Z",
     "shell.execute_reply": "2023-11-20T19:35:26.871211Z",
     "shell.execute_reply.started": "2023-11-20T19:35:26.863694Z"
    }
   },
   "outputs": [],
   "source": [
    "model.compile(loss='binary_crossentropy',\\\n",
    "             optimizer=optimizers.SGD(learning_rate=0.002, momentum=0.8),\\\n",
    "             metrics=['acc'])"
   ]
  },
  {
   "cell_type": "markdown",
   "id": "0bd1b88e-a149-433b-bb6c-de34a1e9d0d1",
   "metadata": {},
   "source": [
    "### Overall"
   ]
  },
  {
   "cell_type": "code",
   "execution_count": 34,
   "id": "a186e715-81e9-420a-aefd-1ddcf59c0065",
   "metadata": {
    "execution": {
     "iopub.execute_input": "2023-11-20T20:02:28.981575Z",
     "iopub.status.busy": "2023-11-20T20:02:28.981197Z",
     "iopub.status.idle": "2023-11-20T20:02:29.016789Z",
     "shell.execute_reply": "2023-11-20T20:02:29.016220Z",
     "shell.execute_reply.started": "2023-11-20T20:02:28.981550Z"
    }
   },
   "outputs": [],
   "source": [
    "model = models.Sequential()\n",
    "\n",
    "model.add(layers.Conv2D(32, (3, 3), activation='relu',\n",
    "                        input_shape=(150, 150, 3)))\n",
    "\n",
    "model.add(layers.MaxPooling2D((2, 2)))\n",
    "\n",
    "model.add(layers.Flatten())\n",
    "\n",
    "model.add(layers.Dense(64, activation='relu'))\n",
    "model.add(layers.Dense(1, activation='sigmoid'))\n",
    "\n",
    "model.compile(loss='binary_crossentropy',\\\n",
    "             optimizer=optimizers.SGD(learning_rate=0.002, momentum=0.8),\\\n",
    "             metrics=['accuracy'])"
   ]
  },
  {
   "cell_type": "markdown",
   "id": "87a70bbf-5427-4388-b52a-9d46e2e21891",
   "metadata": {},
   "source": [
    "## Question 1\n",
    "Since we have a binary classification problem, what is the best loss function for us?\n",
    "\n",
    "- mean squared error\n",
    "- binary crossentropy\n",
    "- categorical crossentropy\n",
    "- cosine similarity"
   ]
  },
  {
   "cell_type": "markdown",
   "id": "62a52e10-6344-4a36-a073-3a383b9c4db1",
   "metadata": {},
   "source": [
    "### Answer: \n",
    "- binary_crossentropy"
   ]
  },
  {
   "cell_type": "markdown",
   "id": "44bfa612-2087-4a70-a805-8ecc50e46aeb",
   "metadata": {},
   "source": [
    "  "
   ]
  },
  {
   "cell_type": "markdown",
   "id": "79b48914-04ae-49d4-9308-c6f14d13fed2",
   "metadata": {},
   "source": [
    "## Question 2\n",
    "\n",
    "What's the number of parameters in the **convolutional layer** of our model? You can use the **summary** method for that.\n",
    "\n",
    "- 1\n",
    "- 65\n",
    "- 896\n",
    "- 11214912"
   ]
  },
  {
   "cell_type": "code",
   "execution_count": 35,
   "id": "81fb77be-6091-4eee-9aa4-2c17a6ce9470",
   "metadata": {
    "execution": {
     "iopub.execute_input": "2023-11-20T20:02:57.303937Z",
     "iopub.status.busy": "2023-11-20T20:02:57.303544Z",
     "iopub.status.idle": "2023-11-20T20:02:57.319292Z",
     "shell.execute_reply": "2023-11-20T20:02:57.318573Z",
     "shell.execute_reply.started": "2023-11-20T20:02:57.303910Z"
    },
    "tags": []
   },
   "outputs": [
    {
     "name": "stdout",
     "output_type": "stream",
     "text": [
      "Model: \"sequential_3\"\n",
      "_________________________________________________________________\n",
      " Layer (type)                Output Shape              Param #   \n",
      "=================================================================\n",
      " conv2d_4 (Conv2D)           (None, 148, 148, 32)      896       \n",
      "                                                                 \n",
      " max_pooling2d_2 (MaxPooling  (None, 74, 74, 32)       0         \n",
      " 2D)                                                             \n",
      "                                                                 \n",
      " flatten_1 (Flatten)         (None, 175232)            0         \n",
      "                                                                 \n",
      " dense_4 (Dense)             (None, 64)                11214912  \n",
      "                                                                 \n",
      " dense_5 (Dense)             (None, 1)                 65        \n",
      "                                                                 \n",
      "=================================================================\n",
      "Total params: 11,215,873\n",
      "Trainable params: 11,215,873\n",
      "Non-trainable params: 0\n",
      "_________________________________________________________________\n"
     ]
    }
   ],
   "source": [
    "model.summary()"
   ]
  },
  {
   "cell_type": "markdown",
   "id": "bd9ae4ee-989a-4f2d-a870-a05d0bc4fbce",
   "metadata": {},
   "source": [
    "### Answer:\n",
    "- 896"
   ]
  },
  {
   "cell_type": "markdown",
   "id": "68b712ed-0d24-4b17-bb86-0da8b947ad8f",
   "metadata": {},
   "source": [
    "## Generators and Training\n",
    "For the next two questions, use the following data generator for both train and test sets:"
   ]
  },
  {
   "cell_type": "code",
   "execution_count": 7,
   "id": "f687cf3b-cd35-4a3c-b2e6-a3a2bc778696",
   "metadata": {
    "execution": {
     "iopub.execute_input": "2023-11-19T19:32:26.124800Z",
     "iopub.status.busy": "2023-11-19T19:32:26.124406Z",
     "iopub.status.idle": "2023-11-19T19:32:26.133993Z",
     "shell.execute_reply": "2023-11-19T19:32:26.133216Z",
     "shell.execute_reply.started": "2023-11-19T19:32:26.124776Z"
    }
   },
   "outputs": [
    {
     "data": {
      "text/plain": [
       "<keras.preprocessing.image.ImageDataGenerator at 0x7f425e5930a0>"
      ]
     },
     "execution_count": 7,
     "metadata": {},
     "output_type": "execute_result"
    }
   ],
   "source": [
    "ImageDataGenerator(rescale=1./255)"
   ]
  },
  {
   "cell_type": "markdown",
   "id": "6fd355a3-39a6-44ab-8095-4579c3387f82",
   "metadata": {},
   "source": [
    "- We don't need to do any additional pre-processing for the images.\n",
    "- When reading the data from train/test directories, check the class_mode parameter. Which value should it be for a binary classification problem?\n",
    "- Use batch_size=20\n",
    "- Use shuffle=True for both training and test sets."
   ]
  },
  {
   "cell_type": "markdown",
   "id": "8cdfd161-4944-454d-aa30-ceec0500225c",
   "metadata": {},
   "source": [
    "**For training use .fit() with the following params:**"
   ]
  },
  {
   "cell_type": "markdown",
   "id": "f29048b4-2c56-44d8-a333-0aa03a29e08a",
   "metadata": {},
   "source": [
    "model.fit(\n",
    "    train_generator,\n",
    "    epochs=10,\n",
    "    validation_data=test_generator\n",
    ")"
   ]
  },
  {
   "cell_type": "code",
   "execution_count": 36,
   "id": "e65eaa75-362c-4ce2-af61-f6adf2b53526",
   "metadata": {
    "execution": {
     "iopub.execute_input": "2023-11-20T20:03:02.189306Z",
     "iopub.status.busy": "2023-11-20T20:03:02.188924Z",
     "iopub.status.idle": "2023-11-20T20:03:02.192783Z",
     "shell.execute_reply": "2023-11-20T20:03:02.192097Z",
     "shell.execute_reply.started": "2023-11-20T20:03:02.189279Z"
    },
    "tags": []
   },
   "outputs": [],
   "source": [
    "train_gen = ImageDataGenerator(rescale=1./255)\n",
    "test_gen = ImageDataGenerator(rescale=1./255)"
   ]
  },
  {
   "cell_type": "code",
   "execution_count": 37,
   "id": "bb0faf8c-042c-4469-81c0-c3f049b669b2",
   "metadata": {
    "execution": {
     "iopub.execute_input": "2023-11-20T20:03:02.951312Z",
     "iopub.status.busy": "2023-11-20T20:03:02.951009Z",
     "iopub.status.idle": "2023-11-20T20:03:03.062750Z",
     "shell.execute_reply": "2023-11-20T20:03:03.061977Z",
     "shell.execute_reply.started": "2023-11-20T20:03:02.951291Z"
    },
    "tags": []
   },
   "outputs": [
    {
     "name": "stdout",
     "output_type": "stream",
     "text": [
      "Found 3677 images belonging to 2 classes.\n",
      "Found 918 images belonging to 2 classes.\n"
     ]
    }
   ],
   "source": [
    "train_ds = train_gen.flow_from_directory(directory = './data/train/',\n",
    "                                         target_size=(150, 150), \n",
    "                                         batch_size=20,\n",
    "                                         class_mode='binary',\n",
    "                                         shuffle=True) \n",
    "\n",
    "\n",
    "test_ds = test_gen.flow_from_directory(directory = './data/test/',\n",
    "                                     target_size=(150, 150),\n",
    "                                     batch_size=20,\n",
    "                                     class_mode='binary',\n",
    "                                     shuffle=True)"
   ]
  },
  {
   "cell_type": "markdown",
   "id": "3590c4e1-ecc8-40bc-96b3-9ca7a8d3c3b4",
   "metadata": {},
   "source": [
    "## Question 3\n",
    "What is the **median of training accuracy** for all the epochs for this model?\n",
    "\n",
    "- 0.20\n",
    "- 0.40\n",
    "- 0.60\n",
    "- 0.80"
   ]
  },
  {
   "cell_type": "code",
   "execution_count": 38,
   "id": "1ec0b6c3-e847-4ea4-b340-1ccff5045489",
   "metadata": {
    "execution": {
     "iopub.execute_input": "2023-11-20T20:03:11.554366Z",
     "iopub.status.busy": "2023-11-20T20:03:11.553977Z",
     "iopub.status.idle": "2023-11-20T20:04:30.411466Z",
     "shell.execute_reply": "2023-11-20T20:04:30.410880Z",
     "shell.execute_reply.started": "2023-11-20T20:03:11.554338Z"
    },
    "tags": []
   },
   "outputs": [
    {
     "name": "stdout",
     "output_type": "stream",
     "text": [
      "Epoch 1/10\n",
      "184/184 [==============================] - 8s 43ms/step - loss: 0.6743 - accuracy: 0.5700 - val_loss: 0.6354 - val_accuracy: 0.6318\n",
      "Epoch 2/10\n",
      "184/184 [==============================] - 8s 43ms/step - loss: 0.6294 - accuracy: 0.6418 - val_loss: 0.6021 - val_accuracy: 0.6471\n",
      "Epoch 3/10\n",
      "184/184 [==============================] - 8s 42ms/step - loss: 0.5770 - accuracy: 0.6987 - val_loss: 0.5603 - val_accuracy: 0.7048\n",
      "Epoch 4/10\n",
      "184/184 [==============================] - 8s 42ms/step - loss: 0.5354 - accuracy: 0.7359 - val_loss: 0.5377 - val_accuracy: 0.7407\n",
      "Epoch 5/10\n",
      "184/184 [==============================] - 8s 42ms/step - loss: 0.5125 - accuracy: 0.7618 - val_loss: 0.5366 - val_accuracy: 0.7222\n",
      "Epoch 6/10\n",
      "184/184 [==============================] - 8s 42ms/step - loss: 0.4790 - accuracy: 0.7800 - val_loss: 0.5250 - val_accuracy: 0.7582\n",
      "Epoch 7/10\n",
      "184/184 [==============================] - 8s 42ms/step - loss: 0.4570 - accuracy: 0.7971 - val_loss: 0.5148 - val_accuracy: 0.7418\n",
      "Epoch 8/10\n",
      "184/184 [==============================] - 8s 43ms/step - loss: 0.4382 - accuracy: 0.8085 - val_loss: 0.5174 - val_accuracy: 0.7538\n",
      "Epoch 9/10\n",
      "184/184 [==============================] - 8s 42ms/step - loss: 0.4059 - accuracy: 0.8300 - val_loss: 0.5354 - val_accuracy: 0.7505\n",
      "Epoch 10/10\n",
      "184/184 [==============================] - 8s 43ms/step - loss: 0.3854 - accuracy: 0.8376 - val_loss: 0.4785 - val_accuracy: 0.7734\n"
     ]
    }
   ],
   "source": [
    "history = model.fit(train_ds, epochs=10, validation_data=test_ds)"
   ]
  },
  {
   "cell_type": "code",
   "execution_count": 39,
   "id": "04b9dbc7-c6b1-4a55-a46e-b45b8c7e0c92",
   "metadata": {
    "execution": {
     "iopub.execute_input": "2023-11-20T20:04:34.800893Z",
     "iopub.status.busy": "2023-11-20T20:04:34.800494Z",
     "iopub.status.idle": "2023-11-20T20:04:34.805639Z",
     "shell.execute_reply": "2023-11-20T20:04:34.805050Z",
     "shell.execute_reply.started": "2023-11-20T20:04:34.800868Z"
    },
    "tags": []
   },
   "outputs": [
    {
     "data": {
      "text/plain": [
       "{'loss': [0.6742805242538452,\n",
       "  0.6294495463371277,\n",
       "  0.5769554376602173,\n",
       "  0.5353834629058838,\n",
       "  0.5124533772468567,\n",
       "  0.4790196716785431,\n",
       "  0.45704030990600586,\n",
       "  0.4382040798664093,\n",
       "  0.4059171676635742,\n",
       "  0.3854389488697052],\n",
       " 'accuracy': [0.5700299143791199,\n",
       "  0.6418275833129883,\n",
       "  0.6986674070358276,\n",
       "  0.7359260320663452,\n",
       "  0.7617623209953308,\n",
       "  0.7799836993217468,\n",
       "  0.7971172332763672,\n",
       "  0.8085395693778992,\n",
       "  0.8300244808197021,\n",
       "  0.8376393914222717],\n",
       " 'val_loss': [0.6353545188903809,\n",
       "  0.6020938754081726,\n",
       "  0.5602622032165527,\n",
       "  0.5376819968223572,\n",
       "  0.5366268157958984,\n",
       "  0.524971604347229,\n",
       "  0.5148130059242249,\n",
       "  0.517443060874939,\n",
       "  0.5354128479957581,\n",
       "  0.47849440574645996],\n",
       " 'val_accuracy': [0.6318082809448242,\n",
       "  0.6470588445663452,\n",
       "  0.7047930359840393,\n",
       "  0.7407407164573669,\n",
       "  0.7222222089767456,\n",
       "  0.758169949054718,\n",
       "  0.741830050945282,\n",
       "  0.7538126111030579,\n",
       "  0.7505446672439575,\n",
       "  0.7734204530715942]}"
      ]
     },
     "execution_count": 39,
     "metadata": {},
     "output_type": "execute_result"
    }
   ],
   "source": [
    "history.history"
   ]
  },
  {
   "cell_type": "code",
   "execution_count": 40,
   "id": "cc8c4298-2172-41a7-8ebf-e5b6704d3c1d",
   "metadata": {
    "execution": {
     "iopub.execute_input": "2023-11-20T20:04:51.121698Z",
     "iopub.status.busy": "2023-11-20T20:04:51.121308Z",
     "iopub.status.idle": "2023-11-20T20:04:51.227765Z",
     "shell.execute_reply": "2023-11-20T20:04:51.227056Z",
     "shell.execute_reply.started": "2023-11-20T20:04:51.121674Z"
    },
    "tags": []
   },
   "outputs": [
    {
     "data": {
      "text/plain": [
       "<matplotlib.legend.Legend at 0x7fea7c1e2ca0>"
      ]
     },
     "execution_count": 40,
     "metadata": {},
     "output_type": "execute_result"
    },
    {
     "data": {
      "image/png": "[encoded data removed]",
      "text/plain": [
       "<Figure size 640x480 with 1 Axes>"
      ]
     },
     "metadata": {},
     "output_type": "display_data"
    }
   ],
   "source": [
    "plt.plot(history.history['accuracy'], label = 'train')\n",
    "plt.plot(history.history['val_accuracy'], label = 'val')\n",
    "         \n",
    "plt.legend()"
   ]
  },
  {
   "cell_type": "markdown",
   "id": "3dd25a94-95c8-472d-a1de-9b944518d167",
   "metadata": {
    "execution": {
     "iopub.execute_input": "2023-11-19T19:55:38.547978Z",
     "iopub.status.busy": "2023-11-19T19:55:38.547573Z",
     "iopub.status.idle": "2023-11-19T19:55:38.552781Z",
     "shell.execute_reply": "2023-11-19T19:55:38.551737Z",
     "shell.execute_reply.started": "2023-11-19T19:55:38.547954Z"
    }
   },
   "source": [
    "Median of training accuracy"
   ]
  },
  {
   "cell_type": "code",
   "execution_count": 41,
   "id": "497f7b73-7aac-4be0-9388-4f615692f5ec",
   "metadata": {
    "execution": {
     "iopub.execute_input": "2023-11-20T20:05:00.458464Z",
     "iopub.status.busy": "2023-11-20T20:05:00.458060Z",
     "iopub.status.idle": "2023-11-20T20:05:00.463723Z",
     "shell.execute_reply": "2023-11-20T20:05:00.462991Z",
     "shell.execute_reply.started": "2023-11-20T20:05:00.458439Z"
    },
    "tags": []
   },
   "outputs": [
    {
     "data": {
      "text/plain": [
       "0.7708730101585388"
      ]
     },
     "execution_count": 41,
     "metadata": {},
     "output_type": "execute_result"
    }
   ],
   "source": [
    "acc_median = np.median(history.history['accuracy'])\n",
    "acc_median"
   ]
  },
  {
   "cell_type": "markdown",
   "id": "9e6c9e9b-3c50-4b7a-8ebd-e25c5563dbf0",
   "metadata": {},
   "source": [
    "### Answer: \n",
    "- 0.80"
   ]
  },
  {
   "cell_type": "markdown",
   "id": "88cc4988-9dc1-44fa-bd92-54b265f5906b",
   "metadata": {},
   "source": [
    " "
   ]
  },
  {
   "cell_type": "markdown",
   "id": "7234f976-58be-4713-ace1-23e93fa27e98",
   "metadata": {
    "execution": {
     "iopub.execute_input": "2023-11-19T19:57:07.978746Z",
     "iopub.status.busy": "2023-11-19T19:57:07.978353Z",
     "iopub.status.idle": "2023-11-19T19:57:07.983747Z",
     "shell.execute_reply": "2023-11-19T19:57:07.982768Z",
     "shell.execute_reply.started": "2023-11-19T19:57:07.978721Z"
    }
   },
   "source": [
    "## Question 4\n",
    "What is the standard deviation of **training loss** for all the epochs for this model?\n",
    "\n",
    "- 0.031\n",
    "- 0.061\n",
    "- 0.091\n",
    "- 0.131"
   ]
  },
  {
   "cell_type": "code",
   "execution_count": 42,
   "id": "a1628957-ab5b-495b-ba3c-1429340c5935",
   "metadata": {
    "execution": {
     "iopub.execute_input": "2023-11-20T20:05:38.650740Z",
     "iopub.status.busy": "2023-11-20T20:05:38.650342Z",
     "iopub.status.idle": "2023-11-20T20:05:38.655427Z",
     "shell.execute_reply": "2023-11-20T20:05:38.654811Z",
     "shell.execute_reply.started": "2023-11-20T20:05:38.650715Z"
    },
    "tags": []
   },
   "outputs": [
    {
     "data": {
      "text/plain": [
       "0.09036264646538196"
      ]
     },
     "execution_count": 42,
     "metadata": {},
     "output_type": "execute_result"
    }
   ],
   "source": [
    "acc_std = np.std(history.history['loss'])\n",
    "acc_std"
   ]
  },
  {
   "cell_type": "markdown",
   "id": "cf084c45-b08d-4175-8275-5cbaa3d209ad",
   "metadata": {},
   "source": [
    "### Answer: \n",
    "- 0.091"
   ]
  },
  {
   "cell_type": "markdown",
   "id": "31fffc34-3c7e-4b44-afbf-057f92a03c9e",
   "metadata": {},
   "source": [
    "  "
   ]
  },
  {
   "cell_type": "markdown",
   "id": "7b3f9eaf-e51e-42e5-a488-b05e1d531025",
   "metadata": {},
   "source": [
    "## Data Augmentation\n",
    "For the next two questions, we'll generate more data using data augmentations.\n",
    "\n",
    "Add the following augmentations to your training data generator:\n",
    "\n",
    " - rotation_range=50,\n",
    "- width_shift_range=0.1,\n",
    "- height_shift_range=0.1,\n",
    "- zoom_range=0.1,\n",
    "- horizontal_flip=True,\n",
    "- fill_mode='nearest'"
   ]
  },
  {
   "cell_type": "markdown",
   "id": "530ca7a0-9678-45ac-91ef-1de509d32012",
   "metadata": {},
   "source": [
    "## Question 5\n",
    "Let's train our model for 10 more epochs using the same code as previously.\n",
    "\n",
    "    - Note: make sure you don't re-create the model - we want to continue training the model we already started training.\n",
    "\n",
    "What is the **mean of test loss** for all the epochs for the model trained with augmentations?\n",
    "\n",
    "- 0.18\n",
    "- 0.48\n",
    "- 0.78\n",
    "- 0.108"
   ]
  },
  {
   "cell_type": "code",
   "execution_count": 43,
   "id": "50fd53c3-58c2-4169-83fa-20a4175afe4e",
   "metadata": {
    "execution": {
     "iopub.execute_input": "2023-11-20T20:11:23.871447Z",
     "iopub.status.busy": "2023-11-20T20:11:23.871047Z",
     "iopub.status.idle": "2023-11-20T20:11:23.989033Z",
     "shell.execute_reply": "2023-11-20T20:11:23.988396Z",
     "shell.execute_reply.started": "2023-11-20T20:11:23.871421Z"
    },
    "tags": []
   },
   "outputs": [
    {
     "name": "stdout",
     "output_type": "stream",
     "text": [
      "Found 3677 images belonging to 2 classes.\n",
      "Found 918 images belonging to 2 classes.\n"
     ]
    }
   ],
   "source": [
    "train_gen = ImageDataGenerator(\n",
    "    rescale=1./255,\n",
    "    rotation_range=50,\n",
    "    width_shift_range=0.1,\n",
    "    height_shift_range=0.1,\n",
    "    zoom_range=0.1,\n",
    "    horizontal_flip=True,\n",
    "    fill_mode='nearest', \n",
    ")\n",
    "\n",
    "train_ds = train_gen.flow_from_directory(\n",
    "    './data/train/',\n",
    "    target_size=(150, 150),\n",
    "    batch_size=20,\n",
    "    class_mode='binary',\n",
    "    shuffle=True\n",
    ")\n",
    "\n",
    "test_gen = ImageDataGenerator(rescale=1./255)\n",
    "\n",
    "test_ds = test_gen.flow_from_directory(\n",
    "    './data/test/',\n",
    "    target_size=(150, 150),\n",
    "    batch_size=20,\n",
    "    class_mode='binary',\n",
    "    shuffle=True\n",
    ")"
   ]
  },
  {
   "cell_type": "code",
   "execution_count": 44,
   "id": "daf9ceca-0246-417b-97bd-6dce4c24b06e",
   "metadata": {
    "execution": {
     "iopub.execute_input": "2023-11-20T20:12:01.923639Z",
     "iopub.status.busy": "2023-11-20T20:12:01.923268Z",
     "iopub.status.idle": "2023-11-20T20:15:47.687399Z",
     "shell.execute_reply": "2023-11-20T20:15:47.686604Z",
     "shell.execute_reply.started": "2023-11-20T20:12:01.923612Z"
    },
    "tags": []
   },
   "outputs": [
    {
     "name": "stdout",
     "output_type": "stream",
     "text": [
      "Epoch 1/10\n",
      "184/184 [==============================] - 23s 123ms/step - loss: 0.4943 - accuracy: 0.7656 - val_loss: 0.4716 - val_accuracy: 0.7778\n",
      "Epoch 2/10\n",
      "184/184 [==============================] - 23s 122ms/step - loss: 0.4807 - accuracy: 0.7775 - val_loss: 0.5046 - val_accuracy: 0.7538\n",
      "Epoch 3/10\n",
      "184/184 [==============================] - 23s 123ms/step - loss: 0.4770 - accuracy: 0.7824 - val_loss: 0.4607 - val_accuracy: 0.7854\n",
      "Epoch 4/10\n",
      "184/184 [==============================] - 23s 123ms/step - loss: 0.4773 - accuracy: 0.7781 - val_loss: 0.4561 - val_accuracy: 0.7930\n",
      "Epoch 5/10\n",
      "184/184 [==============================] - 23s 123ms/step - loss: 0.4679 - accuracy: 0.7868 - val_loss: 0.4529 - val_accuracy: 0.7865\n",
      "Epoch 6/10\n",
      "184/184 [==============================] - 23s 123ms/step - loss: 0.4648 - accuracy: 0.7857 - val_loss: 0.4713 - val_accuracy: 0.7908\n",
      "Epoch 7/10\n",
      "184/184 [==============================] - 22s 122ms/step - loss: 0.4581 - accuracy: 0.7909 - val_loss: 0.4897 - val_accuracy: 0.7734\n",
      "Epoch 8/10\n",
      "184/184 [==============================] - 22s 122ms/step - loss: 0.4643 - accuracy: 0.7911 - val_loss: 0.4424 - val_accuracy: 0.7898\n",
      "Epoch 9/10\n",
      "184/184 [==============================] - 22s 122ms/step - loss: 0.4567 - accuracy: 0.7917 - val_loss: 0.4463 - val_accuracy: 0.7908\n",
      "Epoch 10/10\n",
      "184/184 [==============================] - 23s 122ms/step - loss: 0.4568 - accuracy: 0.7895 - val_loss: 0.4679 - val_accuracy: 0.7832\n"
     ]
    }
   ],
   "source": [
    "history = model.fit(train_ds, epochs=10, validation_data=test_ds)"
   ]
  },
  {
   "cell_type": "code",
   "execution_count": 45,
   "id": "d47f2be2-b4ef-4958-8c53-c512262a62f2",
   "metadata": {
    "execution": {
     "iopub.execute_input": "2023-11-20T20:17:45.428944Z",
     "iopub.status.busy": "2023-11-20T20:17:45.428531Z",
     "iopub.status.idle": "2023-11-20T20:17:45.433915Z",
     "shell.execute_reply": "2023-11-20T20:17:45.433201Z",
     "shell.execute_reply.started": "2023-11-20T20:17:45.428919Z"
    },
    "tags": []
   },
   "outputs": [
    {
     "data": {
      "text/plain": [
       "{'loss': [0.49430763721466064,\n",
       "  0.4807189702987671,\n",
       "  0.47704949975013733,\n",
       "  0.47728464007377625,\n",
       "  0.4679328203201294,\n",
       "  0.464765727519989,\n",
       "  0.45813870429992676,\n",
       "  0.4642971456050873,\n",
       "  0.4567197561264038,\n",
       "  0.4567520320415497],\n",
       " 'accuracy': [0.7655697464942932,\n",
       "  0.7775360345840454,\n",
       "  0.7824313044548035,\n",
       "  0.7780799269676208,\n",
       "  0.7867826819419861,\n",
       "  0.7856948375701904,\n",
       "  0.7908621430397034,\n",
       "  0.7911340594291687,\n",
       "  0.7916780114173889,\n",
       "  0.7895023226737976],\n",
       " 'val_loss': [0.4715858995914459,\n",
       "  0.5045996308326721,\n",
       "  0.46072128415107727,\n",
       "  0.4561254382133484,\n",
       "  0.4529013931751251,\n",
       "  0.47134795784950256,\n",
       "  0.4896993637084961,\n",
       "  0.44238701462745667,\n",
       "  0.44631874561309814,\n",
       "  0.4678916037082672],\n",
       " 'val_accuracy': [0.7777777910232544,\n",
       "  0.7538126111030579,\n",
       "  0.7854030728340149,\n",
       "  0.7930282950401306,\n",
       "  0.7864923477172852,\n",
       "  0.7908496856689453,\n",
       "  0.7734204530715942,\n",
       "  0.7897603511810303,\n",
       "  0.7908496856689453,\n",
       "  0.7832244038581848]}"
      ]
     },
     "execution_count": 45,
     "metadata": {},
     "output_type": "execute_result"
    }
   ],
   "source": [
    "history.history"
   ]
  },
  {
   "cell_type": "code",
   "execution_count": 46,
   "id": "cce0f92d-a8a7-4495-88cb-5eac39c12a23",
   "metadata": {
    "execution": {
     "iopub.execute_input": "2023-11-20T20:18:27.388040Z",
     "iopub.status.busy": "2023-11-20T20:18:27.387654Z",
     "iopub.status.idle": "2023-11-20T20:18:27.392940Z",
     "shell.execute_reply": "2023-11-20T20:18:27.392181Z",
     "shell.execute_reply.started": "2023-11-20T20:18:27.388017Z"
    },
    "tags": []
   },
   "outputs": [
    {
     "data": {
      "text/plain": [
       "0.46635783314704893"
      ]
     },
     "execution_count": 46,
     "metadata": {},
     "output_type": "execute_result"
    }
   ],
   "source": [
    "val_loss_mean = np.mean(history.history['val_loss'])\n",
    "val_loss_mean"
   ]
  },
  {
   "cell_type": "markdown",
   "id": "ac850114-9990-4bde-85db-24415ae9d2f0",
   "metadata": {},
   "source": [
    "### Answer:\n",
    "- 0.48"
   ]
  },
  {
   "cell_type": "markdown",
   "id": "276ec1b3-98f9-48c7-9d6c-cc8ecd274c17",
   "metadata": {},
   "source": [
    "  "
   ]
  },
  {
   "cell_type": "markdown",
   "id": "dfeb0ef4-d914-4d5c-a095-fffc09c58509",
   "metadata": {},
   "source": [
    "## Question 6\n",
    "What's the average of test accuracy for the last 5 epochs (from 6 to 10) for the model trained with augmentations?\n",
    "\n",
    "- 0.38\n",
    "- 0.58\n",
    "- 0.78\n",
    "- 0.98"
   ]
  },
  {
   "cell_type": "code",
   "execution_count": 47,
   "id": "d244a0e3-f262-4240-95bf-da3f259840d3",
   "metadata": {
    "execution": {
     "iopub.execute_input": "2023-11-20T20:19:08.387185Z",
     "iopub.status.busy": "2023-11-20T20:19:08.386787Z",
     "iopub.status.idle": "2023-11-20T20:19:08.392714Z",
     "shell.execute_reply": "2023-11-20T20:19:08.391901Z",
     "shell.execute_reply.started": "2023-11-20T20:19:08.387161Z"
    },
    "tags": []
   },
   "outputs": [
    {
     "data": {
      "text/plain": [
       "0.78562091588974"
      ]
     },
     "execution_count": 47,
     "metadata": {},
     "output_type": "execute_result"
    }
   ],
   "source": [
    "val_acc_aug = history.history['val_accuracy']\n",
    "\n",
    "val_acc_mean_aug = np.mean(val_acc_aug[5:10])\n",
    "val_acc_mean_aug"
   ]
  },
  {
   "cell_type": "markdown",
   "id": "562c40db-1313-4d4a-9f2c-50e3a1d4d825",
   "metadata": {},
   "source": [
    "### Answer: \n",
    "- 0.78"
   ]
  }
 ],
 "metadata": {
  "kernelspec": {
   "display_name": "saturn (Python 3)",
   "language": "python",
   "name": "python3"
  },
  "language_info": {
   "codemirror_mode": {
    "name": "ipython",
    "version": 3
   },
   "file_extension": ".py",
   "mimetype": "text/x-python",
   "name": "python",
   "nbconvert_exporter": "python",
   "pygments_lexer": "ipython3",
   "version": "3.9.13"
  }
 },
 "nbformat": 4,
 "nbformat_minor": 5
}
