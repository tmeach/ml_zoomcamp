{
 "cells": [
  {
   "cell_type": "markdown",
   "id": "e0dcc6de",
   "metadata": {},
   "source": [
    "## Dataset\n",
    "\n",
    "In this homework, we will use the Car price dataset. Download it:\n",
    "\n",
    "wget https://raw.githubusercontent.com/alexeygrigorev/mlbookcamp-code/master/chapter-02-car-price/data.csv"
   ]
  },
  {
   "cell_type": "markdown",
   "id": "d358b22f",
   "metadata": {},
   "source": [
    "We'll keep working with the MSRP variable, and we'll transform it to a classification task.\n",
    "\n"
   ]
  },
  {
   "cell_type": "code",
   "execution_count": 204,
   "id": "a627ad03",
   "metadata": {},
   "outputs": [],
   "source": [
    "import pandas as pd \n",
    "import numpy as np \n",
    "\n",
    "import matplotlib.pyplot as plt\n",
    "import seaborn as sns\n",
    "%matplotlib inline\n",
    "\n",
    "\n",
    "from sklearn.feature_extraction import DictVectorizer\n",
    "from sklearn.linear_model import LogisticRegression \n",
    "from sklearn.linear_model import LinearRegression\n",
    "from sklearn.metrics import accuracy_score\n",
    "from sklearn.metrics import mean_absolute_error"
   ]
  },
  {
   "cell_type": "code",
   "execution_count": 10,
   "id": "fb112105",
   "metadata": {},
   "outputs": [],
   "source": [
    "df = pd.read_csv('/home/timur/work_hub/ml_zoomcamp2023/3. Machine Learning for Classification/data.csv')"
   ]
  },
  {
   "cell_type": "code",
   "execution_count": 11,
   "id": "9f40b8f2",
   "metadata": {},
   "outputs": [
    {
     "data": {
      "text/html": [
       "<div>\n",
       "<style scoped>\n",
       "    .dataframe tbody tr th:only-of-type {\n",
       "        vertical-align: middle;\n",
       "    }\n",
       "\n",
       "    .dataframe tbody tr th {\n",
       "        vertical-align: top;\n",
       "    }\n",
       "\n",
       "    .dataframe thead th {\n",
       "        text-align: right;\n",
       "    }\n",
       "</style>\n",
       "<table border=\"1\" class=\"dataframe\">\n",
       "  <thead>\n",
       "    <tr style=\"text-align: right;\">\n",
       "      <th></th>\n",
       "      <th>Make</th>\n",
       "      <th>Model</th>\n",
       "      <th>Year</th>\n",
       "      <th>Engine Fuel Type</th>\n",
       "      <th>Engine HP</th>\n",
       "      <th>Engine Cylinders</th>\n",
       "      <th>Transmission Type</th>\n",
       "      <th>Driven_Wheels</th>\n",
       "      <th>Number of Doors</th>\n",
       "      <th>Market Category</th>\n",
       "      <th>Vehicle Size</th>\n",
       "      <th>Vehicle Style</th>\n",
       "      <th>highway MPG</th>\n",
       "      <th>city mpg</th>\n",
       "      <th>Popularity</th>\n",
       "      <th>MSRP</th>\n",
       "    </tr>\n",
       "  </thead>\n",
       "  <tbody>\n",
       "    <tr>\n",
       "      <th>0</th>\n",
       "      <td>BMW</td>\n",
       "      <td>1 Series M</td>\n",
       "      <td>2011</td>\n",
       "      <td>premium unleaded (required)</td>\n",
       "      <td>335.0</td>\n",
       "      <td>6.0</td>\n",
       "      <td>MANUAL</td>\n",
       "      <td>rear wheel drive</td>\n",
       "      <td>2.0</td>\n",
       "      <td>Factory Tuner,Luxury,High-Performance</td>\n",
       "      <td>Compact</td>\n",
       "      <td>Coupe</td>\n",
       "      <td>26</td>\n",
       "      <td>19</td>\n",
       "      <td>3916</td>\n",
       "      <td>46135</td>\n",
       "    </tr>\n",
       "    <tr>\n",
       "      <th>1</th>\n",
       "      <td>BMW</td>\n",
       "      <td>1 Series</td>\n",
       "      <td>2011</td>\n",
       "      <td>premium unleaded (required)</td>\n",
       "      <td>300.0</td>\n",
       "      <td>6.0</td>\n",
       "      <td>MANUAL</td>\n",
       "      <td>rear wheel drive</td>\n",
       "      <td>2.0</td>\n",
       "      <td>Luxury,Performance</td>\n",
       "      <td>Compact</td>\n",
       "      <td>Convertible</td>\n",
       "      <td>28</td>\n",
       "      <td>19</td>\n",
       "      <td>3916</td>\n",
       "      <td>40650</td>\n",
       "    </tr>\n",
       "    <tr>\n",
       "      <th>2</th>\n",
       "      <td>BMW</td>\n",
       "      <td>1 Series</td>\n",
       "      <td>2011</td>\n",
       "      <td>premium unleaded (required)</td>\n",
       "      <td>300.0</td>\n",
       "      <td>6.0</td>\n",
       "      <td>MANUAL</td>\n",
       "      <td>rear wheel drive</td>\n",
       "      <td>2.0</td>\n",
       "      <td>Luxury,High-Performance</td>\n",
       "      <td>Compact</td>\n",
       "      <td>Coupe</td>\n",
       "      <td>28</td>\n",
       "      <td>20</td>\n",
       "      <td>3916</td>\n",
       "      <td>36350</td>\n",
       "    </tr>\n",
       "    <tr>\n",
       "      <th>3</th>\n",
       "      <td>BMW</td>\n",
       "      <td>1 Series</td>\n",
       "      <td>2011</td>\n",
       "      <td>premium unleaded (required)</td>\n",
       "      <td>230.0</td>\n",
       "      <td>6.0</td>\n",
       "      <td>MANUAL</td>\n",
       "      <td>rear wheel drive</td>\n",
       "      <td>2.0</td>\n",
       "      <td>Luxury,Performance</td>\n",
       "      <td>Compact</td>\n",
       "      <td>Coupe</td>\n",
       "      <td>28</td>\n",
       "      <td>18</td>\n",
       "      <td>3916</td>\n",
       "      <td>29450</td>\n",
       "    </tr>\n",
       "    <tr>\n",
       "      <th>4</th>\n",
       "      <td>BMW</td>\n",
       "      <td>1 Series</td>\n",
       "      <td>2011</td>\n",
       "      <td>premium unleaded (required)</td>\n",
       "      <td>230.0</td>\n",
       "      <td>6.0</td>\n",
       "      <td>MANUAL</td>\n",
       "      <td>rear wheel drive</td>\n",
       "      <td>2.0</td>\n",
       "      <td>Luxury</td>\n",
       "      <td>Compact</td>\n",
       "      <td>Convertible</td>\n",
       "      <td>28</td>\n",
       "      <td>18</td>\n",
       "      <td>3916</td>\n",
       "      <td>34500</td>\n",
       "    </tr>\n",
       "  </tbody>\n",
       "</table>\n",
       "</div>"
      ],
      "text/plain": [
       "  Make       Model  Year             Engine Fuel Type  Engine HP  \\\n",
       "0  BMW  1 Series M  2011  premium unleaded (required)      335.0   \n",
       "1  BMW    1 Series  2011  premium unleaded (required)      300.0   \n",
       "2  BMW    1 Series  2011  premium unleaded (required)      300.0   \n",
       "3  BMW    1 Series  2011  premium unleaded (required)      230.0   \n",
       "4  BMW    1 Series  2011  premium unleaded (required)      230.0   \n",
       "\n",
       "   Engine Cylinders Transmission Type     Driven_Wheels  Number of Doors  \\\n",
       "0               6.0            MANUAL  rear wheel drive              2.0   \n",
       "1               6.0            MANUAL  rear wheel drive              2.0   \n",
       "2               6.0            MANUAL  rear wheel drive              2.0   \n",
       "3               6.0            MANUAL  rear wheel drive              2.0   \n",
       "4               6.0            MANUAL  rear wheel drive              2.0   \n",
       "\n",
       "                         Market Category Vehicle Size Vehicle Style  \\\n",
       "0  Factory Tuner,Luxury,High-Performance      Compact         Coupe   \n",
       "1                     Luxury,Performance      Compact   Convertible   \n",
       "2                Luxury,High-Performance      Compact         Coupe   \n",
       "3                     Luxury,Performance      Compact         Coupe   \n",
       "4                                 Luxury      Compact   Convertible   \n",
       "\n",
       "   highway MPG  city mpg  Popularity   MSRP  \n",
       "0           26        19        3916  46135  \n",
       "1           28        19        3916  40650  \n",
       "2           28        20        3916  36350  \n",
       "3           28        18        3916  29450  \n",
       "4           28        18        3916  34500  "
      ]
     },
     "execution_count": 11,
     "metadata": {},
     "output_type": "execute_result"
    }
   ],
   "source": [
    "df.head()"
   ]
  },
  {
   "cell_type": "markdown",
   "id": "7016c56f",
   "metadata": {},
   "source": [
    "## Features\n",
    "\n",
    "\n",
    "For the rest of the homework, you'll need to use only these columns:\n",
    "\n",
    "- Make\n",
    "- Model\n",
    "- Year\n",
    "- Engine HP\n",
    "- Engine Cylinders\n",
    "- Transmission Type\n",
    "- Vehicle Style\n",
    "- highway MPG\n",
    "- city mpg"
   ]
  },
  {
   "cell_type": "code",
   "execution_count": 12,
   "id": "b0e1f083",
   "metadata": {},
   "outputs": [],
   "source": [
    "features = ['Make',\n",
    "            'Model',\n",
    "            'Year',\n",
    "            'Engine HP',\n",
    "            'Engine Cylinders',\n",
    "            'Transmission Type',\n",
    "            'Vehicle Style',\n",
    "            'highway MPG',\n",
    "            'city mpg',\n",
    "            'MSRP']"
   ]
  },
  {
   "cell_type": "markdown",
   "id": "84cf213d",
   "metadata": {},
   "source": [
    "## Data preparation"
   ]
  },
  {
   "cell_type": "code",
   "execution_count": 13,
   "id": "88c0c1c5",
   "metadata": {},
   "outputs": [
    {
     "data": {
      "text/html": [
       "<div>\n",
       "<style scoped>\n",
       "    .dataframe tbody tr th:only-of-type {\n",
       "        vertical-align: middle;\n",
       "    }\n",
       "\n",
       "    .dataframe tbody tr th {\n",
       "        vertical-align: top;\n",
       "    }\n",
       "\n",
       "    .dataframe thead th {\n",
       "        text-align: right;\n",
       "    }\n",
       "</style>\n",
       "<table border=\"1\" class=\"dataframe\">\n",
       "  <thead>\n",
       "    <tr style=\"text-align: right;\">\n",
       "      <th></th>\n",
       "      <th>Make</th>\n",
       "      <th>Model</th>\n",
       "      <th>Year</th>\n",
       "      <th>Engine HP</th>\n",
       "      <th>Engine Cylinders</th>\n",
       "      <th>Transmission Type</th>\n",
       "      <th>Vehicle Style</th>\n",
       "      <th>highway MPG</th>\n",
       "      <th>city mpg</th>\n",
       "      <th>MSRP</th>\n",
       "    </tr>\n",
       "  </thead>\n",
       "  <tbody>\n",
       "    <tr>\n",
       "      <th>0</th>\n",
       "      <td>BMW</td>\n",
       "      <td>1 Series M</td>\n",
       "      <td>2011</td>\n",
       "      <td>335.0</td>\n",
       "      <td>6.0</td>\n",
       "      <td>MANUAL</td>\n",
       "      <td>Coupe</td>\n",
       "      <td>26</td>\n",
       "      <td>19</td>\n",
       "      <td>46135</td>\n",
       "    </tr>\n",
       "    <tr>\n",
       "      <th>1</th>\n",
       "      <td>BMW</td>\n",
       "      <td>1 Series</td>\n",
       "      <td>2011</td>\n",
       "      <td>300.0</td>\n",
       "      <td>6.0</td>\n",
       "      <td>MANUAL</td>\n",
       "      <td>Convertible</td>\n",
       "      <td>28</td>\n",
       "      <td>19</td>\n",
       "      <td>40650</td>\n",
       "    </tr>\n",
       "    <tr>\n",
       "      <th>2</th>\n",
       "      <td>BMW</td>\n",
       "      <td>1 Series</td>\n",
       "      <td>2011</td>\n",
       "      <td>300.0</td>\n",
       "      <td>6.0</td>\n",
       "      <td>MANUAL</td>\n",
       "      <td>Coupe</td>\n",
       "      <td>28</td>\n",
       "      <td>20</td>\n",
       "      <td>36350</td>\n",
       "    </tr>\n",
       "    <tr>\n",
       "      <th>3</th>\n",
       "      <td>BMW</td>\n",
       "      <td>1 Series</td>\n",
       "      <td>2011</td>\n",
       "      <td>230.0</td>\n",
       "      <td>6.0</td>\n",
       "      <td>MANUAL</td>\n",
       "      <td>Coupe</td>\n",
       "      <td>28</td>\n",
       "      <td>18</td>\n",
       "      <td>29450</td>\n",
       "    </tr>\n",
       "    <tr>\n",
       "      <th>4</th>\n",
       "      <td>BMW</td>\n",
       "      <td>1 Series</td>\n",
       "      <td>2011</td>\n",
       "      <td>230.0</td>\n",
       "      <td>6.0</td>\n",
       "      <td>MANUAL</td>\n",
       "      <td>Convertible</td>\n",
       "      <td>28</td>\n",
       "      <td>18</td>\n",
       "      <td>34500</td>\n",
       "    </tr>\n",
       "  </tbody>\n",
       "</table>\n",
       "</div>"
      ],
      "text/plain": [
       "  Make       Model  Year  Engine HP  Engine Cylinders Transmission Type  \\\n",
       "0  BMW  1 Series M  2011      335.0               6.0            MANUAL   \n",
       "1  BMW    1 Series  2011      300.0               6.0            MANUAL   \n",
       "2  BMW    1 Series  2011      300.0               6.0            MANUAL   \n",
       "3  BMW    1 Series  2011      230.0               6.0            MANUAL   \n",
       "4  BMW    1 Series  2011      230.0               6.0            MANUAL   \n",
       "\n",
       "  Vehicle Style  highway MPG  city mpg   MSRP  \n",
       "0         Coupe           26        19  46135  \n",
       "1   Convertible           28        19  40650  \n",
       "2         Coupe           28        20  36350  \n",
       "3         Coupe           28        18  29450  \n",
       "4   Convertible           28        18  34500  "
      ]
     },
     "execution_count": 13,
     "metadata": {},
     "output_type": "execute_result"
    }
   ],
   "source": [
    "df = df[features]\n",
    "df.head()"
   ]
  },
  {
   "cell_type": "markdown",
   "id": "1eb44774",
   "metadata": {},
   "source": [
    "Standartize names of columns (replace blank space with underscore and hange names to lower case"
   ]
  },
  {
   "cell_type": "code",
   "execution_count": 17,
   "id": "f1a15824",
   "metadata": {},
   "outputs": [],
   "source": [
    "df.columns = df.columns.str.replace(' ', '_').str.lower()"
   ]
  },
  {
   "cell_type": "code",
   "execution_count": 18,
   "id": "259e9893",
   "metadata": {},
   "outputs": [
    {
     "data": {
      "text/plain": [
       "Index(['make', 'model', 'year', 'engine_hp', 'engine_cylinders',\n",
       "       'transmission_type', 'vehicle_style', 'highway_mpg', 'city_mpg',\n",
       "       'msrp'],\n",
       "      dtype='object')"
      ]
     },
     "execution_count": 18,
     "metadata": {},
     "output_type": "execute_result"
    }
   ],
   "source": [
    "df.columns"
   ]
  },
  {
   "cell_type": "markdown",
   "id": "2e08d031",
   "metadata": {},
   "source": [
    "Fill in the missing values of the selected features with 0."
   ]
  },
  {
   "cell_type": "code",
   "execution_count": 19,
   "id": "2aa73873",
   "metadata": {},
   "outputs": [
    {
     "data": {
      "text/plain": [
       "make                  0\n",
       "model                 0\n",
       "year                  0\n",
       "engine_hp            69\n",
       "engine_cylinders     30\n",
       "transmission_type     0\n",
       "vehicle_style         0\n",
       "highway_mpg           0\n",
       "city_mpg              0\n",
       "msrp                  0\n",
       "dtype: int64"
      ]
     },
     "execution_count": 19,
     "metadata": {},
     "output_type": "execute_result"
    }
   ],
   "source": [
    "df.isna().sum()"
   ]
  },
  {
   "cell_type": "code",
   "execution_count": 24,
   "id": "91237ace",
   "metadata": {},
   "outputs": [],
   "source": [
    "df[['engine_hp', 'engine_cylinders']] = df[['engine_hp', 'engine_cylinders']].fillna(0)"
   ]
  },
  {
   "cell_type": "code",
   "execution_count": 25,
   "id": "835855f2",
   "metadata": {},
   "outputs": [
    {
     "data": {
      "text/plain": [
       "make                 0\n",
       "model                0\n",
       "year                 0\n",
       "engine_hp            0\n",
       "engine_cylinders     0\n",
       "transmission_type    0\n",
       "vehicle_style        0\n",
       "highway_mpg          0\n",
       "city_mpg             0\n",
       "msrp                 0\n",
       "dtype: int64"
      ]
     },
     "execution_count": 25,
     "metadata": {},
     "output_type": "execute_result"
    }
   ],
   "source": [
    "df.isna().sum()"
   ]
  },
  {
   "cell_type": "markdown",
   "id": "28f2037d",
   "metadata": {},
   "source": [
    "Rename MSRP variable to price"
   ]
  },
  {
   "cell_type": "code",
   "execution_count": 39,
   "id": "90e64aa1",
   "metadata": {},
   "outputs": [],
   "source": [
    "df = df.rename(columns={'msrp':'price'})"
   ]
  },
  {
   "cell_type": "code",
   "execution_count": 40,
   "id": "3d7fe681",
   "metadata": {},
   "outputs": [
    {
     "data": {
      "text/html": [
       "<div>\n",
       "<style scoped>\n",
       "    .dataframe tbody tr th:only-of-type {\n",
       "        vertical-align: middle;\n",
       "    }\n",
       "\n",
       "    .dataframe tbody tr th {\n",
       "        vertical-align: top;\n",
       "    }\n",
       "\n",
       "    .dataframe thead th {\n",
       "        text-align: right;\n",
       "    }\n",
       "</style>\n",
       "<table border=\"1\" class=\"dataframe\">\n",
       "  <thead>\n",
       "    <tr style=\"text-align: right;\">\n",
       "      <th></th>\n",
       "      <th>make</th>\n",
       "      <th>model</th>\n",
       "      <th>year</th>\n",
       "      <th>engine_hp</th>\n",
       "      <th>engine_cylinders</th>\n",
       "      <th>transmission_type</th>\n",
       "      <th>vehicle_style</th>\n",
       "      <th>highway_mpg</th>\n",
       "      <th>city_mpg</th>\n",
       "      <th>price</th>\n",
       "    </tr>\n",
       "  </thead>\n",
       "  <tbody>\n",
       "    <tr>\n",
       "      <th>0</th>\n",
       "      <td>BMW</td>\n",
       "      <td>1 Series M</td>\n",
       "      <td>2011</td>\n",
       "      <td>335.0</td>\n",
       "      <td>6.0</td>\n",
       "      <td>MANUAL</td>\n",
       "      <td>Coupe</td>\n",
       "      <td>26</td>\n",
       "      <td>19</td>\n",
       "      <td>46135</td>\n",
       "    </tr>\n",
       "    <tr>\n",
       "      <th>1</th>\n",
       "      <td>BMW</td>\n",
       "      <td>1 Series</td>\n",
       "      <td>2011</td>\n",
       "      <td>300.0</td>\n",
       "      <td>6.0</td>\n",
       "      <td>MANUAL</td>\n",
       "      <td>Convertible</td>\n",
       "      <td>28</td>\n",
       "      <td>19</td>\n",
       "      <td>40650</td>\n",
       "    </tr>\n",
       "    <tr>\n",
       "      <th>2</th>\n",
       "      <td>BMW</td>\n",
       "      <td>1 Series</td>\n",
       "      <td>2011</td>\n",
       "      <td>300.0</td>\n",
       "      <td>6.0</td>\n",
       "      <td>MANUAL</td>\n",
       "      <td>Coupe</td>\n",
       "      <td>28</td>\n",
       "      <td>20</td>\n",
       "      <td>36350</td>\n",
       "    </tr>\n",
       "    <tr>\n",
       "      <th>3</th>\n",
       "      <td>BMW</td>\n",
       "      <td>1 Series</td>\n",
       "      <td>2011</td>\n",
       "      <td>230.0</td>\n",
       "      <td>6.0</td>\n",
       "      <td>MANUAL</td>\n",
       "      <td>Coupe</td>\n",
       "      <td>28</td>\n",
       "      <td>18</td>\n",
       "      <td>29450</td>\n",
       "    </tr>\n",
       "    <tr>\n",
       "      <th>4</th>\n",
       "      <td>BMW</td>\n",
       "      <td>1 Series</td>\n",
       "      <td>2011</td>\n",
       "      <td>230.0</td>\n",
       "      <td>6.0</td>\n",
       "      <td>MANUAL</td>\n",
       "      <td>Convertible</td>\n",
       "      <td>28</td>\n",
       "      <td>18</td>\n",
       "      <td>34500</td>\n",
       "    </tr>\n",
       "  </tbody>\n",
       "</table>\n",
       "</div>"
      ],
      "text/plain": [
       "  make       model  year  engine_hp  engine_cylinders transmission_type  \\\n",
       "0  BMW  1 Series M  2011      335.0               6.0            MANUAL   \n",
       "1  BMW    1 Series  2011      300.0               6.0            MANUAL   \n",
       "2  BMW    1 Series  2011      300.0               6.0            MANUAL   \n",
       "3  BMW    1 Series  2011      230.0               6.0            MANUAL   \n",
       "4  BMW    1 Series  2011      230.0               6.0            MANUAL   \n",
       "\n",
       "  vehicle_style  highway_mpg  city_mpg  price  \n",
       "0         Coupe           26        19  46135  \n",
       "1   Convertible           28        19  40650  \n",
       "2         Coupe           28        20  36350  \n",
       "3         Coupe           28        18  29450  \n",
       "4   Convertible           28        18  34500  "
      ]
     },
     "execution_count": 40,
     "metadata": {},
     "output_type": "execute_result"
    }
   ],
   "source": [
    "df.head()"
   ]
  },
  {
   "cell_type": "markdown",
   "id": "520558b2",
   "metadata": {},
   "source": [
    "## Question 1\n",
    "\n",
    "What is the most frequent observation (mode) for the column transmission_type?\n",
    "\n",
    "- AUTOMATIC\n",
    "- MANUAL\n",
    "- AUTOMATED_MANUAL\n",
    "- DIRECT_DRIVE"
   ]
  },
  {
   "cell_type": "code",
   "execution_count": 41,
   "id": "492cad2c",
   "metadata": {},
   "outputs": [
    {
     "data": {
      "text/plain": [
       "transmission_type\n",
       "AUTOMATIC           8266\n",
       "MANUAL              2935\n",
       "AUTOMATED_MANUAL     626\n",
       "DIRECT_DRIVE          68\n",
       "UNKNOWN               19\n",
       "Name: count, dtype: int64"
      ]
     },
     "execution_count": 41,
     "metadata": {},
     "output_type": "execute_result"
    }
   ],
   "source": [
    "df['transmission_type'].value_counts()"
   ]
  },
  {
   "cell_type": "markdown",
   "id": "5c965c95",
   "metadata": {},
   "source": [
    "## Answer: \n",
    "\n",
    "- AUTOMATIC"
   ]
  },
  {
   "cell_type": "markdown",
   "id": "7c4ee606",
   "metadata": {},
   "source": [
    "## Question 2\n",
    "\n",
    "Create the correlation matrix for the numerical features of your dataset. In a correlation matrix, you compute the correlation coefficient between every pair of features in the dataset.\n",
    "\n",
    "What are the two features that have the biggest correlation in this dataset?\n",
    "\n",
    "- engine_hp and year\n",
    "- engine_hp and engine_cylinders\n",
    "- highway_mpg and engine_cylinders\n",
    "- highway_mpg and city_mpg"
   ]
  },
  {
   "cell_type": "code",
   "execution_count": 46,
   "id": "c4141d27",
   "metadata": {},
   "outputs": [
    {
     "data": {
      "text/html": [
       "<div>\n",
       "<style scoped>\n",
       "    .dataframe tbody tr th:only-of-type {\n",
       "        vertical-align: middle;\n",
       "    }\n",
       "\n",
       "    .dataframe tbody tr th {\n",
       "        vertical-align: top;\n",
       "    }\n",
       "\n",
       "    .dataframe thead th {\n",
       "        text-align: right;\n",
       "    }\n",
       "</style>\n",
       "<table border=\"1\" class=\"dataframe\">\n",
       "  <thead>\n",
       "    <tr style=\"text-align: right;\">\n",
       "      <th></th>\n",
       "      <th>make</th>\n",
       "      <th>model</th>\n",
       "      <th>year</th>\n",
       "      <th>engine_hp</th>\n",
       "      <th>engine_cylinders</th>\n",
       "      <th>transmission_type</th>\n",
       "      <th>vehicle_style</th>\n",
       "      <th>highway_mpg</th>\n",
       "      <th>city_mpg</th>\n",
       "      <th>price</th>\n",
       "    </tr>\n",
       "  </thead>\n",
       "  <tbody>\n",
       "    <tr>\n",
       "      <th>0</th>\n",
       "      <td>BMW</td>\n",
       "      <td>1 Series M</td>\n",
       "      <td>2011</td>\n",
       "      <td>335.0</td>\n",
       "      <td>6.0</td>\n",
       "      <td>MANUAL</td>\n",
       "      <td>Coupe</td>\n",
       "      <td>26</td>\n",
       "      <td>19</td>\n",
       "      <td>46135</td>\n",
       "    </tr>\n",
       "    <tr>\n",
       "      <th>1</th>\n",
       "      <td>BMW</td>\n",
       "      <td>1 Series</td>\n",
       "      <td>2011</td>\n",
       "      <td>300.0</td>\n",
       "      <td>6.0</td>\n",
       "      <td>MANUAL</td>\n",
       "      <td>Convertible</td>\n",
       "      <td>28</td>\n",
       "      <td>19</td>\n",
       "      <td>40650</td>\n",
       "    </tr>\n",
       "    <tr>\n",
       "      <th>2</th>\n",
       "      <td>BMW</td>\n",
       "      <td>1 Series</td>\n",
       "      <td>2011</td>\n",
       "      <td>300.0</td>\n",
       "      <td>6.0</td>\n",
       "      <td>MANUAL</td>\n",
       "      <td>Coupe</td>\n",
       "      <td>28</td>\n",
       "      <td>20</td>\n",
       "      <td>36350</td>\n",
       "    </tr>\n",
       "    <tr>\n",
       "      <th>3</th>\n",
       "      <td>BMW</td>\n",
       "      <td>1 Series</td>\n",
       "      <td>2011</td>\n",
       "      <td>230.0</td>\n",
       "      <td>6.0</td>\n",
       "      <td>MANUAL</td>\n",
       "      <td>Coupe</td>\n",
       "      <td>28</td>\n",
       "      <td>18</td>\n",
       "      <td>29450</td>\n",
       "    </tr>\n",
       "    <tr>\n",
       "      <th>4</th>\n",
       "      <td>BMW</td>\n",
       "      <td>1 Series</td>\n",
       "      <td>2011</td>\n",
       "      <td>230.0</td>\n",
       "      <td>6.0</td>\n",
       "      <td>MANUAL</td>\n",
       "      <td>Convertible</td>\n",
       "      <td>28</td>\n",
       "      <td>18</td>\n",
       "      <td>34500</td>\n",
       "    </tr>\n",
       "  </tbody>\n",
       "</table>\n",
       "</div>"
      ],
      "text/plain": [
       "  make       model  year  engine_hp  engine_cylinders transmission_type  \\\n",
       "0  BMW  1 Series M  2011      335.0               6.0            MANUAL   \n",
       "1  BMW    1 Series  2011      300.0               6.0            MANUAL   \n",
       "2  BMW    1 Series  2011      300.0               6.0            MANUAL   \n",
       "3  BMW    1 Series  2011      230.0               6.0            MANUAL   \n",
       "4  BMW    1 Series  2011      230.0               6.0            MANUAL   \n",
       "\n",
       "  vehicle_style  highway_mpg  city_mpg  price  \n",
       "0         Coupe           26        19  46135  \n",
       "1   Convertible           28        19  40650  \n",
       "2         Coupe           28        20  36350  \n",
       "3         Coupe           28        18  29450  \n",
       "4   Convertible           28        18  34500  "
      ]
     },
     "execution_count": 46,
     "metadata": {},
     "output_type": "execute_result"
    }
   ],
   "source": [
    "df.head()"
   ]
  },
  {
   "cell_type": "markdown",
   "id": "bb9c255e",
   "metadata": {},
   "source": [
    "Create 2 lists: numerical and categorical "
   ]
  },
  {
   "cell_type": "code",
   "execution_count": 43,
   "id": "90517c53",
   "metadata": {},
   "outputs": [],
   "source": [
    "numerical = ['year', 'engine_hp', 'engine_cylinders', 'highway_mpg', 'city_mpg']\n",
    "categorical = ['make', 'model', 'transmission_type', 'vehicle_style']"
   ]
  },
  {
   "cell_type": "code",
   "execution_count": 47,
   "id": "12416753",
   "metadata": {},
   "outputs": [
    {
     "data": {
      "text/html": [
       "<div>\n",
       "<style scoped>\n",
       "    .dataframe tbody tr th:only-of-type {\n",
       "        vertical-align: middle;\n",
       "    }\n",
       "\n",
       "    .dataframe tbody tr th {\n",
       "        vertical-align: top;\n",
       "    }\n",
       "\n",
       "    .dataframe thead th {\n",
       "        text-align: right;\n",
       "    }\n",
       "</style>\n",
       "<table border=\"1\" class=\"dataframe\">\n",
       "  <thead>\n",
       "    <tr style=\"text-align: right;\">\n",
       "      <th></th>\n",
       "      <th>year</th>\n",
       "      <th>engine_hp</th>\n",
       "      <th>engine_cylinders</th>\n",
       "      <th>highway_mpg</th>\n",
       "      <th>city_mpg</th>\n",
       "    </tr>\n",
       "  </thead>\n",
       "  <tbody>\n",
       "    <tr>\n",
       "      <th>0</th>\n",
       "      <td>2011</td>\n",
       "      <td>335.0</td>\n",
       "      <td>6.0</td>\n",
       "      <td>26</td>\n",
       "      <td>19</td>\n",
       "    </tr>\n",
       "    <tr>\n",
       "      <th>1</th>\n",
       "      <td>2011</td>\n",
       "      <td>300.0</td>\n",
       "      <td>6.0</td>\n",
       "      <td>28</td>\n",
       "      <td>19</td>\n",
       "    </tr>\n",
       "    <tr>\n",
       "      <th>2</th>\n",
       "      <td>2011</td>\n",
       "      <td>300.0</td>\n",
       "      <td>6.0</td>\n",
       "      <td>28</td>\n",
       "      <td>20</td>\n",
       "    </tr>\n",
       "    <tr>\n",
       "      <th>3</th>\n",
       "      <td>2011</td>\n",
       "      <td>230.0</td>\n",
       "      <td>6.0</td>\n",
       "      <td>28</td>\n",
       "      <td>18</td>\n",
       "    </tr>\n",
       "    <tr>\n",
       "      <th>4</th>\n",
       "      <td>2011</td>\n",
       "      <td>230.0</td>\n",
       "      <td>6.0</td>\n",
       "      <td>28</td>\n",
       "      <td>18</td>\n",
       "    </tr>\n",
       "    <tr>\n",
       "      <th>...</th>\n",
       "      <td>...</td>\n",
       "      <td>...</td>\n",
       "      <td>...</td>\n",
       "      <td>...</td>\n",
       "      <td>...</td>\n",
       "    </tr>\n",
       "    <tr>\n",
       "      <th>11909</th>\n",
       "      <td>2012</td>\n",
       "      <td>300.0</td>\n",
       "      <td>6.0</td>\n",
       "      <td>23</td>\n",
       "      <td>16</td>\n",
       "    </tr>\n",
       "    <tr>\n",
       "      <th>11910</th>\n",
       "      <td>2012</td>\n",
       "      <td>300.0</td>\n",
       "      <td>6.0</td>\n",
       "      <td>23</td>\n",
       "      <td>16</td>\n",
       "    </tr>\n",
       "    <tr>\n",
       "      <th>11911</th>\n",
       "      <td>2012</td>\n",
       "      <td>300.0</td>\n",
       "      <td>6.0</td>\n",
       "      <td>23</td>\n",
       "      <td>16</td>\n",
       "    </tr>\n",
       "    <tr>\n",
       "      <th>11912</th>\n",
       "      <td>2013</td>\n",
       "      <td>300.0</td>\n",
       "      <td>6.0</td>\n",
       "      <td>23</td>\n",
       "      <td>16</td>\n",
       "    </tr>\n",
       "    <tr>\n",
       "      <th>11913</th>\n",
       "      <td>2006</td>\n",
       "      <td>221.0</td>\n",
       "      <td>6.0</td>\n",
       "      <td>26</td>\n",
       "      <td>17</td>\n",
       "    </tr>\n",
       "  </tbody>\n",
       "</table>\n",
       "<p>11914 rows × 5 columns</p>\n",
       "</div>"
      ],
      "text/plain": [
       "       year  engine_hp  engine_cylinders  highway_mpg  city_mpg\n",
       "0      2011      335.0               6.0           26        19\n",
       "1      2011      300.0               6.0           28        19\n",
       "2      2011      300.0               6.0           28        20\n",
       "3      2011      230.0               6.0           28        18\n",
       "4      2011      230.0               6.0           28        18\n",
       "...     ...        ...               ...          ...       ...\n",
       "11909  2012      300.0               6.0           23        16\n",
       "11910  2012      300.0               6.0           23        16\n",
       "11911  2012      300.0               6.0           23        16\n",
       "11912  2013      300.0               6.0           23        16\n",
       "11913  2006      221.0               6.0           26        17\n",
       "\n",
       "[11914 rows x 5 columns]"
      ]
     },
     "execution_count": 47,
     "metadata": {},
     "output_type": "execute_result"
    }
   ],
   "source": [
    "df[numerical]"
   ]
  },
  {
   "cell_type": "markdown",
   "id": "a030b826",
   "metadata": {},
   "source": [
    "Create correlation matrix"
   ]
  },
  {
   "cell_type": "code",
   "execution_count": 52,
   "id": "77da6297",
   "metadata": {},
   "outputs": [
    {
     "data": {
      "text/html": [
       "<div>\n",
       "<style scoped>\n",
       "    .dataframe tbody tr th:only-of-type {\n",
       "        vertical-align: middle;\n",
       "    }\n",
       "\n",
       "    .dataframe tbody tr th {\n",
       "        vertical-align: top;\n",
       "    }\n",
       "\n",
       "    .dataframe thead th {\n",
       "        text-align: right;\n",
       "    }\n",
       "</style>\n",
       "<table border=\"1\" class=\"dataframe\">\n",
       "  <thead>\n",
       "    <tr style=\"text-align: right;\">\n",
       "      <th></th>\n",
       "      <th>year</th>\n",
       "      <th>engine_hp</th>\n",
       "      <th>engine_cylinders</th>\n",
       "      <th>highway_mpg</th>\n",
       "      <th>city_mpg</th>\n",
       "    </tr>\n",
       "  </thead>\n",
       "  <tbody>\n",
       "    <tr>\n",
       "      <th>year</th>\n",
       "      <td>1.000000</td>\n",
       "      <td>0.338714</td>\n",
       "      <td>-0.040708</td>\n",
       "      <td>0.258240</td>\n",
       "      <td>0.198171</td>\n",
       "    </tr>\n",
       "    <tr>\n",
       "      <th>engine_hp</th>\n",
       "      <td>0.338714</td>\n",
       "      <td>1.000000</td>\n",
       "      <td>0.774851</td>\n",
       "      <td>-0.415707</td>\n",
       "      <td>-0.424918</td>\n",
       "    </tr>\n",
       "    <tr>\n",
       "      <th>engine_cylinders</th>\n",
       "      <td>-0.040708</td>\n",
       "      <td>0.774851</td>\n",
       "      <td>1.000000</td>\n",
       "      <td>-0.614541</td>\n",
       "      <td>-0.587306</td>\n",
       "    </tr>\n",
       "    <tr>\n",
       "      <th>highway_mpg</th>\n",
       "      <td>0.258240</td>\n",
       "      <td>-0.415707</td>\n",
       "      <td>-0.614541</td>\n",
       "      <td>1.000000</td>\n",
       "      <td>0.886829</td>\n",
       "    </tr>\n",
       "    <tr>\n",
       "      <th>city_mpg</th>\n",
       "      <td>0.198171</td>\n",
       "      <td>-0.424918</td>\n",
       "      <td>-0.587306</td>\n",
       "      <td>0.886829</td>\n",
       "      <td>1.000000</td>\n",
       "    </tr>\n",
       "  </tbody>\n",
       "</table>\n",
       "</div>"
      ],
      "text/plain": [
       "                      year  engine_hp  engine_cylinders  highway_mpg  city_mpg\n",
       "year              1.000000   0.338714         -0.040708     0.258240  0.198171\n",
       "engine_hp         0.338714   1.000000          0.774851    -0.415707 -0.424918\n",
       "engine_cylinders -0.040708   0.774851          1.000000    -0.614541 -0.587306\n",
       "highway_mpg       0.258240  -0.415707         -0.614541     1.000000  0.886829\n",
       "city_mpg          0.198171  -0.424918         -0.587306     0.886829  1.000000"
      ]
     },
     "execution_count": 52,
     "metadata": {},
     "output_type": "execute_result"
    }
   ],
   "source": [
    "df[numerical].corr()"
   ]
  },
  {
   "cell_type": "markdown",
   "id": "8745f431",
   "metadata": {},
   "source": [
    "## Answer: \n",
    "\n",
    "- highway_mpg and city_mpg"
   ]
  },
  {
   "cell_type": "markdown",
   "id": "b81e8b49",
   "metadata": {},
   "source": [
    "## Make price binary\n",
    "\n",
    "- Now we need to turn the price variable from numeric into a binary format.\n",
    "- Let's create a variable above_average which is 1 if the price is above its mean value and 0 otherwise."
   ]
  },
  {
   "cell_type": "code",
   "execution_count": 60,
   "id": "ad9fe7c5",
   "metadata": {},
   "outputs": [],
   "source": [
    "df['above_average'] = (df.price > df.price.mean()).astype(int)"
   ]
  },
  {
   "cell_type": "code",
   "execution_count": 61,
   "id": "f21f6574",
   "metadata": {},
   "outputs": [
    {
     "data": {
      "text/html": [
       "<div>\n",
       "<style scoped>\n",
       "    .dataframe tbody tr th:only-of-type {\n",
       "        vertical-align: middle;\n",
       "    }\n",
       "\n",
       "    .dataframe tbody tr th {\n",
       "        vertical-align: top;\n",
       "    }\n",
       "\n",
       "    .dataframe thead th {\n",
       "        text-align: right;\n",
       "    }\n",
       "</style>\n",
       "<table border=\"1\" class=\"dataframe\">\n",
       "  <thead>\n",
       "    <tr style=\"text-align: right;\">\n",
       "      <th></th>\n",
       "      <th>make</th>\n",
       "      <th>model</th>\n",
       "      <th>year</th>\n",
       "      <th>engine_hp</th>\n",
       "      <th>engine_cylinders</th>\n",
       "      <th>transmission_type</th>\n",
       "      <th>vehicle_style</th>\n",
       "      <th>highway_mpg</th>\n",
       "      <th>city_mpg</th>\n",
       "      <th>price</th>\n",
       "      <th>above_average</th>\n",
       "    </tr>\n",
       "  </thead>\n",
       "  <tbody>\n",
       "    <tr>\n",
       "      <th>0</th>\n",
       "      <td>BMW</td>\n",
       "      <td>1 Series M</td>\n",
       "      <td>2011</td>\n",
       "      <td>335.0</td>\n",
       "      <td>6.0</td>\n",
       "      <td>MANUAL</td>\n",
       "      <td>Coupe</td>\n",
       "      <td>26</td>\n",
       "      <td>19</td>\n",
       "      <td>46135</td>\n",
       "      <td>1</td>\n",
       "    </tr>\n",
       "    <tr>\n",
       "      <th>1</th>\n",
       "      <td>BMW</td>\n",
       "      <td>1 Series</td>\n",
       "      <td>2011</td>\n",
       "      <td>300.0</td>\n",
       "      <td>6.0</td>\n",
       "      <td>MANUAL</td>\n",
       "      <td>Convertible</td>\n",
       "      <td>28</td>\n",
       "      <td>19</td>\n",
       "      <td>40650</td>\n",
       "      <td>1</td>\n",
       "    </tr>\n",
       "    <tr>\n",
       "      <th>2</th>\n",
       "      <td>BMW</td>\n",
       "      <td>1 Series</td>\n",
       "      <td>2011</td>\n",
       "      <td>300.0</td>\n",
       "      <td>6.0</td>\n",
       "      <td>MANUAL</td>\n",
       "      <td>Coupe</td>\n",
       "      <td>28</td>\n",
       "      <td>20</td>\n",
       "      <td>36350</td>\n",
       "      <td>0</td>\n",
       "    </tr>\n",
       "    <tr>\n",
       "      <th>3</th>\n",
       "      <td>BMW</td>\n",
       "      <td>1 Series</td>\n",
       "      <td>2011</td>\n",
       "      <td>230.0</td>\n",
       "      <td>6.0</td>\n",
       "      <td>MANUAL</td>\n",
       "      <td>Coupe</td>\n",
       "      <td>28</td>\n",
       "      <td>18</td>\n",
       "      <td>29450</td>\n",
       "      <td>0</td>\n",
       "    </tr>\n",
       "    <tr>\n",
       "      <th>4</th>\n",
       "      <td>BMW</td>\n",
       "      <td>1 Series</td>\n",
       "      <td>2011</td>\n",
       "      <td>230.0</td>\n",
       "      <td>6.0</td>\n",
       "      <td>MANUAL</td>\n",
       "      <td>Convertible</td>\n",
       "      <td>28</td>\n",
       "      <td>18</td>\n",
       "      <td>34500</td>\n",
       "      <td>0</td>\n",
       "    </tr>\n",
       "  </tbody>\n",
       "</table>\n",
       "</div>"
      ],
      "text/plain": [
       "  make       model  year  engine_hp  engine_cylinders transmission_type  \\\n",
       "0  BMW  1 Series M  2011      335.0               6.0            MANUAL   \n",
       "1  BMW    1 Series  2011      300.0               6.0            MANUAL   \n",
       "2  BMW    1 Series  2011      300.0               6.0            MANUAL   \n",
       "3  BMW    1 Series  2011      230.0               6.0            MANUAL   \n",
       "4  BMW    1 Series  2011      230.0               6.0            MANUAL   \n",
       "\n",
       "  vehicle_style  highway_mpg  city_mpg  price  above_average  \n",
       "0         Coupe           26        19  46135              1  \n",
       "1   Convertible           28        19  40650              1  \n",
       "2         Coupe           28        20  36350              0  \n",
       "3         Coupe           28        18  29450              0  \n",
       "4   Convertible           28        18  34500              0  "
      ]
     },
     "execution_count": 61,
     "metadata": {},
     "output_type": "execute_result"
    }
   ],
   "source": [
    "df.head()"
   ]
  },
  {
   "cell_type": "markdown",
   "id": "df1b1125",
   "metadata": {},
   "source": [
    "## Split the data\n",
    "\n",
    "- Split your data in train/val/test sets with 60%/20%/20% distribution.\n",
    "- Use Scikit-Learn for that (the train_test_split function) and set the seed to 42.\n",
    "- Make sure that the target value (above_average) is not in your dataframe."
   ]
  },
  {
   "cell_type": "code",
   "execution_count": 104,
   "id": "dca2a43e",
   "metadata": {},
   "outputs": [],
   "source": [
    "from sklearn.model_selection import train_test_split"
   ]
  },
  {
   "cell_type": "code",
   "execution_count": 105,
   "id": "48b1948a",
   "metadata": {},
   "outputs": [],
   "source": [
    "df_full_train, df_test = train_test_split(df, test_size = 0.2, random_state = 42)"
   ]
  },
  {
   "cell_type": "code",
   "execution_count": 106,
   "id": "83a5c21d",
   "metadata": {},
   "outputs": [],
   "source": [
    "df_train, df_val = train_test_split(df_full_train, test_size = 0.25, random_state = 42)"
   ]
  },
  {
   "cell_type": "code",
   "execution_count": 107,
   "id": "a6bf67ee",
   "metadata": {},
   "outputs": [
    {
     "data": {
      "text/plain": [
       "(7148, 2383, 2383)"
      ]
     },
     "execution_count": 107,
     "metadata": {},
     "output_type": "execute_result"
    }
   ],
   "source": [
    "len(df_train), len(df_val), len(df_test)"
   ]
  },
  {
   "cell_type": "code",
   "execution_count": 108,
   "id": "861cde71",
   "metadata": {},
   "outputs": [],
   "source": [
    "df_train = df_train.reset_index(drop=True)\n",
    "df_val = df_val.reset_index(drop=True)\n",
    "df_test = df_test.reset_index(drop=True)"
   ]
  },
  {
   "cell_type": "code",
   "execution_count": 111,
   "id": "f3f66dd2",
   "metadata": {},
   "outputs": [],
   "source": [
    "y_train = df_train['above_average']\n",
    "y_val = df_val['above_average']\n",
    "y_test = df_test['above_average']"
   ]
  },
  {
   "cell_type": "code",
   "execution_count": 112,
   "id": "53ad0f7e",
   "metadata": {},
   "outputs": [],
   "source": [
    "del df_train['above_average']\n",
    "del df_val['above_average']\n",
    "del df_test['above_average']"
   ]
  },
  {
   "cell_type": "code",
   "execution_count": 113,
   "id": "3112a03a",
   "metadata": {},
   "outputs": [
    {
     "data": {
      "text/html": [
       "<div>\n",
       "<style scoped>\n",
       "    .dataframe tbody tr th:only-of-type {\n",
       "        vertical-align: middle;\n",
       "    }\n",
       "\n",
       "    .dataframe tbody tr th {\n",
       "        vertical-align: top;\n",
       "    }\n",
       "\n",
       "    .dataframe thead th {\n",
       "        text-align: right;\n",
       "    }\n",
       "</style>\n",
       "<table border=\"1\" class=\"dataframe\">\n",
       "  <thead>\n",
       "    <tr style=\"text-align: right;\">\n",
       "      <th></th>\n",
       "      <th>make</th>\n",
       "      <th>model</th>\n",
       "      <th>year</th>\n",
       "      <th>engine_hp</th>\n",
       "      <th>engine_cylinders</th>\n",
       "      <th>transmission_type</th>\n",
       "      <th>vehicle_style</th>\n",
       "      <th>highway_mpg</th>\n",
       "      <th>city_mpg</th>\n",
       "      <th>price</th>\n",
       "    </tr>\n",
       "  </thead>\n",
       "  <tbody>\n",
       "    <tr>\n",
       "      <th>0</th>\n",
       "      <td>Mitsubishi</td>\n",
       "      <td>Endeavor</td>\n",
       "      <td>2011</td>\n",
       "      <td>225.0</td>\n",
       "      <td>6.0</td>\n",
       "      <td>AUTOMATIC</td>\n",
       "      <td>4dr SUV</td>\n",
       "      <td>19</td>\n",
       "      <td>15</td>\n",
       "      <td>33599</td>\n",
       "    </tr>\n",
       "    <tr>\n",
       "      <th>1</th>\n",
       "      <td>Kia</td>\n",
       "      <td>Borrego</td>\n",
       "      <td>2009</td>\n",
       "      <td>276.0</td>\n",
       "      <td>6.0</td>\n",
       "      <td>AUTOMATIC</td>\n",
       "      <td>4dr SUV</td>\n",
       "      <td>21</td>\n",
       "      <td>17</td>\n",
       "      <td>26245</td>\n",
       "    </tr>\n",
       "    <tr>\n",
       "      <th>2</th>\n",
       "      <td>Lamborghini</td>\n",
       "      <td>Gallardo</td>\n",
       "      <td>2012</td>\n",
       "      <td>570.0</td>\n",
       "      <td>10.0</td>\n",
       "      <td>MANUAL</td>\n",
       "      <td>Convertible</td>\n",
       "      <td>20</td>\n",
       "      <td>12</td>\n",
       "      <td>248000</td>\n",
       "    </tr>\n",
       "    <tr>\n",
       "      <th>3</th>\n",
       "      <td>Chevrolet</td>\n",
       "      <td>Colorado</td>\n",
       "      <td>2016</td>\n",
       "      <td>200.0</td>\n",
       "      <td>4.0</td>\n",
       "      <td>AUTOMATIC</td>\n",
       "      <td>Crew Cab Pickup</td>\n",
       "      <td>27</td>\n",
       "      <td>20</td>\n",
       "      <td>24990</td>\n",
       "    </tr>\n",
       "    <tr>\n",
       "      <th>4</th>\n",
       "      <td>Pontiac</td>\n",
       "      <td>Vibe</td>\n",
       "      <td>2009</td>\n",
       "      <td>158.0</td>\n",
       "      <td>4.0</td>\n",
       "      <td>AUTOMATIC</td>\n",
       "      <td>4dr Hatchback</td>\n",
       "      <td>26</td>\n",
       "      <td>20</td>\n",
       "      <td>20475</td>\n",
       "    </tr>\n",
       "    <tr>\n",
       "      <th>...</th>\n",
       "      <td>...</td>\n",
       "      <td>...</td>\n",
       "      <td>...</td>\n",
       "      <td>...</td>\n",
       "      <td>...</td>\n",
       "      <td>...</td>\n",
       "      <td>...</td>\n",
       "      <td>...</td>\n",
       "      <td>...</td>\n",
       "      <td>...</td>\n",
       "    </tr>\n",
       "    <tr>\n",
       "      <th>7143</th>\n",
       "      <td>Toyota</td>\n",
       "      <td>Sienna</td>\n",
       "      <td>2016</td>\n",
       "      <td>266.0</td>\n",
       "      <td>6.0</td>\n",
       "      <td>AUTOMATIC</td>\n",
       "      <td>Passenger Minivan</td>\n",
       "      <td>25</td>\n",
       "      <td>18</td>\n",
       "      <td>37655</td>\n",
       "    </tr>\n",
       "    <tr>\n",
       "      <th>7144</th>\n",
       "      <td>Chevrolet</td>\n",
       "      <td>HHR</td>\n",
       "      <td>2009</td>\n",
       "      <td>260.0</td>\n",
       "      <td>4.0</td>\n",
       "      <td>MANUAL</td>\n",
       "      <td>Wagon</td>\n",
       "      <td>29</td>\n",
       "      <td>21</td>\n",
       "      <td>25135</td>\n",
       "    </tr>\n",
       "    <tr>\n",
       "      <th>7145</th>\n",
       "      <td>Hyundai</td>\n",
       "      <td>Veracruz</td>\n",
       "      <td>2012</td>\n",
       "      <td>260.0</td>\n",
       "      <td>6.0</td>\n",
       "      <td>AUTOMATIC</td>\n",
       "      <td>4dr SUV</td>\n",
       "      <td>22</td>\n",
       "      <td>17</td>\n",
       "      <td>28345</td>\n",
       "    </tr>\n",
       "    <tr>\n",
       "      <th>7146</th>\n",
       "      <td>Mitsubishi</td>\n",
       "      <td>Expo</td>\n",
       "      <td>1993</td>\n",
       "      <td>136.0</td>\n",
       "      <td>4.0</td>\n",
       "      <td>MANUAL</td>\n",
       "      <td>2dr Hatchback</td>\n",
       "      <td>26</td>\n",
       "      <td>19</td>\n",
       "      <td>2000</td>\n",
       "    </tr>\n",
       "    <tr>\n",
       "      <th>7147</th>\n",
       "      <td>Ford</td>\n",
       "      <td>Taurus</td>\n",
       "      <td>2015</td>\n",
       "      <td>365.0</td>\n",
       "      <td>6.0</td>\n",
       "      <td>AUTOMATIC</td>\n",
       "      <td>Sedan</td>\n",
       "      <td>25</td>\n",
       "      <td>17</td>\n",
       "      <td>40220</td>\n",
       "    </tr>\n",
       "  </tbody>\n",
       "</table>\n",
       "<p>7148 rows × 10 columns</p>\n",
       "</div>"
      ],
      "text/plain": [
       "             make     model  year  engine_hp  engine_cylinders  \\\n",
       "0      Mitsubishi  Endeavor  2011      225.0               6.0   \n",
       "1             Kia   Borrego  2009      276.0               6.0   \n",
       "2     Lamborghini  Gallardo  2012      570.0              10.0   \n",
       "3       Chevrolet  Colorado  2016      200.0               4.0   \n",
       "4         Pontiac      Vibe  2009      158.0               4.0   \n",
       "...           ...       ...   ...        ...               ...   \n",
       "7143       Toyota    Sienna  2016      266.0               6.0   \n",
       "7144    Chevrolet       HHR  2009      260.0               4.0   \n",
       "7145      Hyundai  Veracruz  2012      260.0               6.0   \n",
       "7146   Mitsubishi      Expo  1993      136.0               4.0   \n",
       "7147         Ford    Taurus  2015      365.0               6.0   \n",
       "\n",
       "     transmission_type      vehicle_style  highway_mpg  city_mpg   price  \n",
       "0            AUTOMATIC            4dr SUV           19        15   33599  \n",
       "1            AUTOMATIC            4dr SUV           21        17   26245  \n",
       "2               MANUAL        Convertible           20        12  248000  \n",
       "3            AUTOMATIC    Crew Cab Pickup           27        20   24990  \n",
       "4            AUTOMATIC      4dr Hatchback           26        20   20475  \n",
       "...                ...                ...          ...       ...     ...  \n",
       "7143         AUTOMATIC  Passenger Minivan           25        18   37655  \n",
       "7144            MANUAL              Wagon           29        21   25135  \n",
       "7145         AUTOMATIC            4dr SUV           22        17   28345  \n",
       "7146            MANUAL      2dr Hatchback           26        19    2000  \n",
       "7147         AUTOMATIC              Sedan           25        17   40220  \n",
       "\n",
       "[7148 rows x 10 columns]"
      ]
     },
     "execution_count": 113,
     "metadata": {},
     "output_type": "execute_result"
    }
   ],
   "source": [
    "df_train"
   ]
  },
  {
   "cell_type": "markdown",
   "id": "cbf11c5f",
   "metadata": {},
   "source": [
    "## Question 3\n",
    "\n",
    "- Calculate the mutual information score between above_average and other categorical variables in our dataset. Use the training set only.\n",
    "- Round the scores to 2 decimals using round(score, 2).\n",
    "\n",
    "Which of these variables has the lowest mutual information score?\n",
    "\n",
    "- make\n",
    "- model\n",
    "- transmission_type\n",
    "- vehicle_style"
   ]
  },
  {
   "cell_type": "code",
   "execution_count": 97,
   "id": "fd6d9755",
   "metadata": {},
   "outputs": [],
   "source": [
    "from sklearn.metrics import mutual_info_score"
   ]
  },
  {
   "cell_type": "code",
   "execution_count": 99,
   "id": "335b1212",
   "metadata": {},
   "outputs": [],
   "source": [
    "def mutual_main_info_score(series):\n",
    "    return mutual_info_score(series, df_full_train.above_average)"
   ]
  },
  {
   "cell_type": "code",
   "execution_count": 101,
   "id": "d18f8c48",
   "metadata": {},
   "outputs": [
    {
     "data": {
      "text/plain": [
       "make                 0.238724\n",
       "model                0.460994\n",
       "transmission_type    0.020884\n",
       "vehicle_style        0.083390\n",
       "dtype: float64"
      ]
     },
     "execution_count": 101,
     "metadata": {},
     "output_type": "execute_result"
    }
   ],
   "source": [
    "df_full_train[categorical].apply(mutual_main_info_score)"
   ]
  },
  {
   "cell_type": "markdown",
   "id": "b938b65e",
   "metadata": {},
   "source": [
    "## Answer:\n",
    "\n",
    "- transmission_type    "
   ]
  },
  {
   "cell_type": "markdown",
   "id": "07bb0ff2",
   "metadata": {},
   "source": [
    "## Question 4\n",
    "\n",
    "- Now let's train a logistic regression.\n",
    "- Remember that we have several categorical variables in the dataset. Include them using one-hot encoding.\n",
    "- Fit the model on the training dataset.\n",
    "\n",
    "        To make sure the results are reproducible across different versions of Scikit-Learn, fit the model with these parameters:\n",
    "        model = LogisticRegression(solver='liblinear', C=10, max_iter=1000, random_state=42)\n",
    "- Calculate the accuracy on the validation dataset and round it to 2 decimal digits.\n",
    "\n",
    "What accuracy did you get?\n",
    "\n",
    "- 0.60\n",
    "- 0.72\n",
    "- 0.84\n",
    "- 0.95"
   ]
  },
  {
   "cell_type": "markdown",
   "id": "627e2535",
   "metadata": {},
   "source": [
    "#### One-hot encoding"
   ]
  },
  {
   "cell_type": "code",
   "execution_count": 131,
   "id": "7603d738",
   "metadata": {},
   "outputs": [],
   "source": [
    "dv = DictVectorizer(sparse=False)"
   ]
  },
  {
   "cell_type": "markdown",
   "id": "281d239b",
   "metadata": {},
   "source": [
    "#### X_train"
   ]
  },
  {
   "cell_type": "code",
   "execution_count": 153,
   "id": "f1a528e7",
   "metadata": {},
   "outputs": [
    {
     "data": {
      "text/plain": [
       "[{'make': 'Mitsubishi',\n",
       "  'model': 'Endeavor',\n",
       "  'transmission_type': 'AUTOMATIC',\n",
       "  'vehicle_style': '4dr SUV',\n",
       "  'year': 2011,\n",
       "  'engine_hp': 225.0,\n",
       "  'engine_cylinders': 6.0,\n",
       "  'highway_mpg': 19,\n",
       "  'city_mpg': 15},\n",
       " {'make': 'Kia',\n",
       "  'model': 'Borrego',\n",
       "  'transmission_type': 'AUTOMATIC',\n",
       "  'vehicle_style': '4dr SUV',\n",
       "  'year': 2009,\n",
       "  'engine_hp': 276.0,\n",
       "  'engine_cylinders': 6.0,\n",
       "  'highway_mpg': 21,\n",
       "  'city_mpg': 17},\n",
       " {'make': 'Lamborghini',\n",
       "  'model': 'Gallardo',\n",
       "  'transmission_type': 'MANUAL',\n",
       "  'vehicle_style': 'Convertible',\n",
       "  'year': 2012,\n",
       "  'engine_hp': 570.0,\n",
       "  'engine_cylinders': 10.0,\n",
       "  'highway_mpg': 20,\n",
       "  'city_mpg': 12}]"
      ]
     },
     "execution_count": 153,
     "metadata": {},
     "output_type": "execute_result"
    }
   ],
   "source": [
    "train_dict = df_train[categorical + numerical].to_dict(orient='records')\n",
    "train_dict[:3]"
   ]
  },
  {
   "cell_type": "code",
   "execution_count": 154,
   "id": "66a25d36",
   "metadata": {},
   "outputs": [],
   "source": [
    "X_train = dv.fit_transform(train_dict)"
   ]
  },
  {
   "cell_type": "code",
   "execution_count": 155,
   "id": "ed0e7123",
   "metadata": {},
   "outputs": [
    {
     "data": {
      "text/plain": [
       "array([[1.500e+01, 6.000e+00, 2.250e+02, ..., 0.000e+00, 0.000e+00,\n",
       "        2.011e+03],\n",
       "       [1.700e+01, 6.000e+00, 2.760e+02, ..., 0.000e+00, 0.000e+00,\n",
       "        2.009e+03],\n",
       "       [1.200e+01, 1.000e+01, 5.700e+02, ..., 0.000e+00, 0.000e+00,\n",
       "        2.012e+03],\n",
       "       ...,\n",
       "       [1.700e+01, 6.000e+00, 2.600e+02, ..., 0.000e+00, 0.000e+00,\n",
       "        2.012e+03],\n",
       "       [1.900e+01, 4.000e+00, 1.360e+02, ..., 0.000e+00, 0.000e+00,\n",
       "        1.993e+03],\n",
       "       [1.700e+01, 6.000e+00, 3.650e+02, ..., 1.000e+00, 0.000e+00,\n",
       "        2.015e+03]])"
      ]
     },
     "execution_count": 155,
     "metadata": {},
     "output_type": "execute_result"
    }
   ],
   "source": [
    "X_train"
   ]
  },
  {
   "cell_type": "markdown",
   "id": "7404e863",
   "metadata": {},
   "source": [
    "#### X_val"
   ]
  },
  {
   "cell_type": "code",
   "execution_count": 156,
   "id": "81c45881",
   "metadata": {},
   "outputs": [],
   "source": [
    "val_dict = df_val[categorical + numerical].to_dict(orient='records')"
   ]
  },
  {
   "cell_type": "code",
   "execution_count": 157,
   "id": "48d22526",
   "metadata": {},
   "outputs": [],
   "source": [
    "X_val = dv.transform(val_dict)"
   ]
  },
  {
   "cell_type": "code",
   "execution_count": 158,
   "id": "22f72646",
   "metadata": {},
   "outputs": [
    {
     "data": {
      "text/plain": [
       "array([[2.300e+01, 4.000e+00, 2.100e+02, ..., 0.000e+00, 0.000e+00,\n",
       "        2.015e+03],\n",
       "       [1.700e+01, 6.000e+00, 3.540e+02, ..., 0.000e+00, 0.000e+00,\n",
       "        2.015e+03],\n",
       "       [2.200e+01, 4.000e+00, 1.400e+02, ..., 1.000e+00, 0.000e+00,\n",
       "        2.005e+03],\n",
       "       ...,\n",
       "       [1.200e+01, 6.000e+00, 1.900e+02, ..., 0.000e+00, 0.000e+00,\n",
       "        2.003e+03],\n",
       "       [1.400e+01, 8.000e+00, 4.300e+02, ..., 0.000e+00, 0.000e+00,\n",
       "        2.015e+03],\n",
       "       [1.800e+01, 6.000e+00, 3.210e+02, ..., 1.000e+00, 0.000e+00,\n",
       "        2.015e+03]])"
      ]
     },
     "execution_count": 158,
     "metadata": {},
     "output_type": "execute_result"
    }
   ],
   "source": [
    "X_val"
   ]
  },
  {
   "cell_type": "markdown",
   "id": "66c6e07d",
   "metadata": {},
   "source": [
    "Train our model"
   ]
  },
  {
   "cell_type": "code",
   "execution_count": 181,
   "id": "7c1a51d9",
   "metadata": {},
   "outputs": [],
   "source": [
    "model = LogisticRegression(solver='liblinear', C=10, max_iter=1000, random_state=42)"
   ]
  },
  {
   "cell_type": "code",
   "execution_count": 182,
   "id": "77efcff6",
   "metadata": {},
   "outputs": [
    {
     "data": {
      "text/plain": [
       "LogisticRegression(C=10, max_iter=1000, random_state=42, solver='liblinear')"
      ]
     },
     "execution_count": 182,
     "metadata": {},
     "output_type": "execute_result"
    }
   ],
   "source": [
    "model.fit(X_train, y_train)"
   ]
  },
  {
   "cell_type": "code",
   "execution_count": 183,
   "id": "6df3e139",
   "metadata": {},
   "outputs": [
    {
     "data": {
      "text/plain": [
       "array([-0.08919584])"
      ]
     },
     "execution_count": 183,
     "metadata": {},
     "output_type": "execute_result"
    }
   ],
   "source": [
    "model.intercept_"
   ]
  },
  {
   "cell_type": "code",
   "execution_count": 184,
   "id": "b523d671",
   "metadata": {},
   "outputs": [
    {
     "data": {
      "text/plain": [
       "array([ 4.900e-02,  1.000e-02,  3.300e-02,  4.400e-02,  1.056e+00,\n",
       "        6.260e-01,  2.400e-01,  2.202e+00,  1.896e+00,  8.300e-02,\n",
       "        0.000e+00, -4.030e-01,  1.866e+00, -1.482e+00, -1.245e+00,\n",
       "       -2.871e+00, -2.030e-01,  1.420e-01, -1.367e+00, -8.470e-01,\n",
       "        1.780e-01,  2.000e-03, -1.212e+00, -2.067e+00,  2.730e-01,\n",
       "       -1.454e+00,  4.000e-03,  1.840e+00,  1.181e+00,  1.105e+00,\n",
       "        2.352e+00,  4.260e-01,  2.000e-03, -1.100e+00,  0.000e+00,\n",
       "        1.175e+00, -9.470e-01, -8.050e-01, -5.840e-01, -4.800e-02,\n",
       "       -1.637e+00,  1.467e+00,  3.570e-01,  9.860e-01, -1.020e-01,\n",
       "        1.120e-01, -1.570e+00, -1.025e+00,  1.591e+00, -5.590e-01,\n",
       "       -5.590e-01,  8.360e-01, -3.040e-01, -6.700e-02, -1.600e-02,\n",
       "       -3.000e-03, -2.000e-03, -2.770e-01, -3.890e-01, -1.000e-03,\n",
       "       -1.000e-03, -1.000e-03, -1.320e-01,  3.500e-02,  4.660e-01,\n",
       "       -2.560e-01, -1.130e-01, -4.300e-02, -7.000e-02, -4.400e-02,\n",
       "       -0.000e+00, -4.000e-03, -4.430e-01,  6.100e-02, -4.500e-02,\n",
       "        5.880e-01,  2.900e-01, -1.430e-01, -1.500e-02,  3.400e-02,\n",
       "        0.000e+00,  6.260e-01,  3.220e-01, -1.000e-02,  4.700e-01,\n",
       "        2.640e-01, -1.900e-02, -6.670e-01, -1.800e-02, -1.060e-01,\n",
       "       -4.400e-02,  1.100e-02, -5.800e-02,  1.000e-03,  0.000e+00,\n",
       "        1.000e-02,  0.000e+00, -6.800e-02,  1.670e-01,  6.800e-02,\n",
       "       -5.710e-01, -3.000e-03,  1.000e-03,  1.000e-03, -4.000e-03,\n",
       "        7.500e-02, -1.100e-02, -1.000e-03, -5.000e-03, -3.540e-01,\n",
       "       -7.000e-03, -3.040e-01, -3.000e-02,  6.230e-01,  2.930e-01,\n",
       "       -2.180e-01,  2.090e-01,  2.110e-01, -3.300e-02, -7.000e-02,\n",
       "       -3.100e-02,  4.590e-01, -8.200e-02, -5.000e-03, -2.800e-02,\n",
       "       -5.600e-02, -2.000e-02, -1.160e-01, -5.270e-01, -1.770e-01,\n",
       "        5.820e-01,  5.740e-01,  2.340e-01,  9.200e-02,  0.000e+00,\n",
       "        0.000e+00,  0.000e+00, -6.970e-01, -5.600e-02,  7.700e-01,\n",
       "        2.720e-01, -7.000e-03, -1.000e-03, -5.570e-01, -8.300e-02,\n",
       "       -7.300e-02, -2.200e-02, -5.000e-03,  2.500e-02,  2.000e-02,\n",
       "        1.000e-03, -2.800e-02, -3.000e-03, -3.300e-02, -6.700e-02,\n",
       "       -2.790e-01, -9.000e-03, -4.200e-02,  8.650e-01,  2.100e-02,\n",
       "       -1.800e-01, -0.000e+00, -4.000e-03, -4.000e-03, -3.700e-02,\n",
       "        4.910e-01, -3.490e-01,  3.410e-01, -6.100e-02,  0.000e+00,\n",
       "       -2.000e-03,  9.700e-02, -1.000e-03, -1.510e-01, -1.400e-02,\n",
       "        6.000e-03,  0.000e+00, -1.400e-01, -2.000e-03, -3.000e-03,\n",
       "       -3.000e-03, -3.830e-01, -1.800e-02, -1.800e-02, -1.300e-01,\n",
       "       -6.940e-01, -2.000e-03,  2.240e-01,  1.160e-01, -1.100e-02,\n",
       "       -8.800e-02, -4.740e-01,  3.200e-01, -2.650e-01, -1.000e-03,\n",
       "       -3.000e-03, -1.000e-03,  1.000e-03, -2.600e-02,  6.650e-01,\n",
       "       -3.300e-02, -1.400e-02, -5.000e-03, -4.500e-02, -1.170e-01,\n",
       "        1.000e-02,  1.120e-01,  2.480e-01, -1.360e-01,  5.000e-03,\n",
       "       -1.900e-01,  4.210e-01,  5.400e-02, -2.020e-01, -1.200e-02,\n",
       "        1.940e-01,  5.630e-01,  7.700e-02,  1.140e-01,  0.000e+00,\n",
       "        0.000e+00,  0.000e+00, -3.000e-02, -1.690e-01, -2.090e-01,\n",
       "       -1.400e-02, -9.000e-03, -5.100e-02,  1.240e-01, -6.000e-03,\n",
       "       -1.110e+00, -3.010e-01, -8.500e-02, -1.650e-01, -9.710e-01,\n",
       "       -2.200e-02, -2.400e-02, -4.000e-03,  0.000e+00, -4.500e-02,\n",
       "       -4.800e-02, -5.000e-03,  5.600e-02,  3.000e-01,  1.360e-01,\n",
       "       -1.000e-03, -1.700e-02, -5.000e-03, -9.550e-01, -9.010e-01,\n",
       "       -7.000e-03, -1.000e-03, -1.600e-01, -0.000e+00, -1.000e-03,\n",
       "       -1.000e-03, -4.800e-02, -6.230e-01, -5.000e-03, -6.100e-02,\n",
       "        7.860e-01,  0.000e+00,  0.000e+00,  1.000e-03,  0.000e+00,\n",
       "        0.000e+00,  0.000e+00,  0.000e+00,  0.000e+00,  0.000e+00,\n",
       "       -1.000e-03,  5.700e-02, -4.500e-02, -1.000e-03, -1.000e-03,\n",
       "        1.530e-01,  1.000e-02,  1.600e-01, -2.000e-03, -3.000e-02,\n",
       "       -3.060e-01, -1.200e-02, -1.100e-02, -4.500e-02, -1.000e-02,\n",
       "       -3.000e-03, -2.000e-03, -3.000e-03, -1.300e-02, -1.100e-02,\n",
       "       -1.500e-02,  3.000e-03,  0.000e+00,  1.100e-02,  5.400e-01,\n",
       "       -6.500e-02, -2.500e-02,  0.000e+00, -3.000e-03,  6.140e-01,\n",
       "       -5.000e-03,  1.000e-03, -2.400e-02,  1.670e-01, -2.800e-02,\n",
       "        6.100e-02,  1.198e+00, -1.000e-03, -3.000e-03, -5.000e-03,\n",
       "        1.322e+00, -2.400e-02, -3.700e-02, -1.760e-01, -4.000e-03,\n",
       "       -1.000e-03, -4.200e-02,  2.390e-01, -7.730e-01, -1.053e+00,\n",
       "       -2.700e-02, -1.800e-01, -4.390e-01, -5.400e-02, -2.500e-02,\n",
       "       -4.000e-02, -5.000e-03, -6.000e-03, -3.000e-03, -5.400e-02,\n",
       "       -4.000e-03, -2.000e-02,  7.970e-01,  7.920e-01, -5.000e-02,\n",
       "       -8.400e-02, -2.900e-02,  2.350e-01, -6.770e-01, -4.960e-01,\n",
       "       -8.400e-02,  1.270e-01, -1.090e-01, -1.180e-01,  3.200e-02,\n",
       "        2.600e-02,  1.500e-02,  2.300e-02,  1.120e-01, -3.800e-02,\n",
       "       -4.000e-02, -1.000e-03,  1.370e-01, -1.200e-02, -4.000e-03,\n",
       "        7.100e-01, -0.000e+00,  7.080e-01,  8.500e-01, -4.100e-02,\n",
       "       -1.600e-02, -2.240e-01, -1.000e-03, -1.570e-01, -2.600e-02,\n",
       "        7.550e-01, -8.000e-03, -5.000e-02, -1.200e-02,  0.000e+00,\n",
       "        2.400e-02,  0.000e+00, -1.420e-01, -5.400e-02,  3.600e-01,\n",
       "        1.100e-01,  7.500e-02,  9.000e-03, -0.000e+00, -5.000e-03,\n",
       "       -3.570e-01, -7.000e-03, -2.700e-02, -1.890e-01, -1.170e-01,\n",
       "        1.000e-03, -2.600e-02, -2.400e-02, -1.000e-02, -1.960e-01,\n",
       "       -4.000e-02, -0.000e+00, -4.000e-02, -8.000e-03, -2.900e-02,\n",
       "       -3.880e-01, -9.200e-02, -5.300e-02,  2.030e-01,  9.300e-02,\n",
       "       -4.300e-01,  1.200e-02, -7.000e-03, -0.000e+00, -6.880e-01,\n",
       "       -5.250e-01,  9.400e-02, -2.290e-01, -1.810e-01, -4.000e-03,\n",
       "       -1.040e-01, -3.250e-01,  1.780e-01,  2.420e-01, -2.180e-01,\n",
       "       -1.060e-01,  2.930e-01,  8.000e-03, -7.300e-02, -6.580e-01,\n",
       "        1.000e-03,  4.910e-01,  2.470e-01,  2.860e-01, -2.240e-01,\n",
       "        8.500e-02,  2.500e-02,  9.000e-02,  3.000e-03,  2.000e-03,\n",
       "       -1.480e-01, -2.670e-01,  1.200e-01,  3.610e-01, -8.000e-03,\n",
       "        2.000e-03,  4.400e-02, -7.220e-01,  7.900e-02,  0.000e+00,\n",
       "        0.000e+00, -4.700e-02, -4.000e-03, -1.780e-01, -1.600e-01,\n",
       "       -6.800e-02,  4.600e-02,  1.800e-02,  7.000e-03, -1.300e-02,\n",
       "       -1.370e-01, -2.180e-01, -2.700e-02, -6.000e-03,  1.740e-01,\n",
       "       -1.720e-01, -4.900e-02, -2.100e-02, -1.000e-01,  2.160e-01,\n",
       "        2.220e-01, -0.000e+00,  0.000e+00, -7.400e-02, -6.900e-02,\n",
       "       -2.130e-01, -3.000e-03, -1.600e-01, -1.120e-01,  1.240e-01,\n",
       "       -5.100e-02, -1.320e-01,  2.100e-02,  4.000e-03, -7.000e-03,\n",
       "       -2.590e-01, -1.000e-03, -3.500e-02, -1.400e-01, -5.000e-03,\n",
       "       -3.000e-02, -1.900e-02, -4.900e-02, -3.200e-02,  1.230e-01,\n",
       "       -2.030e-01, -1.990e-01, -6.900e-02, -5.800e-02, -7.000e-02,\n",
       "       -3.420e-01, -5.300e-02, -0.000e+00,  1.440e-01, -6.800e-02,\n",
       "        0.000e+00, -3.300e-02,  4.100e-02,  1.440e-01,  1.170e-01,\n",
       "       -6.400e-02, -2.080e-01,  1.000e-01,  1.330e-01,  2.000e-03,\n",
       "       -1.300e-02, -2.000e-03, -1.800e-02,  1.690e-01,  2.700e-02,\n",
       "       -6.840e-01, -1.700e-02, -1.280e-01, -7.000e-03,  2.700e-02,\n",
       "       -8.000e-03, -3.000e-03, -1.000e-03, -2.100e-02, -2.700e-02,\n",
       "       -9.600e-02, -1.000e-01,  3.000e-03, -0.000e+00,  1.840e-01,\n",
       "       -7.000e-03, -2.000e-03,  3.990e-01,  4.790e-01,  3.800e-02,\n",
       "        5.000e-03, -1.900e-02,  5.430e-01,  6.400e-02,  1.000e-02,\n",
       "        3.590e-01,  0.000e+00,  1.100e-02,  0.000e+00,  0.000e+00,\n",
       "        8.580e-01, -3.200e-02, -1.710e-01,  1.440e-01, -2.600e-01,\n",
       "        3.060e-01, -3.100e-02,  0.000e+00, -2.400e-02, -2.000e-03,\n",
       "       -1.000e-02, -1.000e-03, -9.700e-02, -1.000e-03,  1.900e-01,\n",
       "       -5.900e-01, -1.200e-01, -1.500e-02, -5.000e-03, -2.100e-02,\n",
       "       -2.300e-02, -2.550e-01, -1.120e-01, -2.630e-01, -4.000e-03,\n",
       "       -3.940e-01,  0.000e+00, -8.000e-03, -9.000e-03, -2.000e-03,\n",
       "       -3.600e-02, -0.000e+00, -0.000e+00, -3.500e-02, -4.000e-03,\n",
       "       -1.000e-03,  1.591e+00, -1.000e-03, -2.200e-02, -3.000e-03,\n",
       "       -7.300e-02, -1.600e-02, -6.900e-02,  1.000e-03,  4.740e-01,\n",
       "        3.750e-01,  0.000e+00, -9.140e-01, -2.640e-01,  6.330e-01,\n",
       "       -1.000e-03, -1.000e-03, -6.690e-01,  1.070e-01, -3.000e-03,\n",
       "        7.500e-02, -1.400e-02, -4.000e-02, -1.100e-02, -2.100e-02,\n",
       "       -9.700e-02,  6.060e-01, -0.000e+00, -2.730e-01, -3.900e-02,\n",
       "       -1.900e-01, -8.900e-02, -8.600e-02, -7.000e-03, -1.230e-01,\n",
       "        2.570e-01,  1.620e-01, -1.000e-03, -2.060e-01, -4.500e-02,\n",
       "       -5.000e-02,  5.400e-01,  1.500e-02,  9.000e-03,  3.000e-03,\n",
       "       -1.000e-03, -2.200e-01, -0.000e+00, -6.000e-03, -6.000e-03,\n",
       "       -3.100e-02, -3.000e-03, -8.000e-03, -2.500e-02, -2.000e-03,\n",
       "       -0.000e+00, -1.000e-03, -0.000e+00,  1.490e-01, -4.490e-01,\n",
       "       -1.500e-01,  6.100e-02,  4.750e-01,  3.290e-01,  1.530e-01,\n",
       "        8.140e-01,  3.010e-01,  4.780e-01,  2.000e-02, -8.100e-02,\n",
       "       -6.530e-01,  1.490e-01,  7.570e-01,  1.590e-01,  2.800e-02,\n",
       "        6.500e-02,  2.030e-01,  6.000e-01, -8.000e-03,  1.000e-02,\n",
       "       -4.000e-03, -2.000e-03, -1.310e-01,  2.680e-01, -5.200e-02,\n",
       "       -1.440e-01,  2.820e-01,  1.820e-01, -1.153e+00,  5.740e-01,\n",
       "        2.880e-01,  1.300e-02,  2.000e-03,  0.000e+00, -1.500e-02,\n",
       "       -1.600e-01, -2.200e-01,  2.890e-01,  1.590e-01,  9.000e-02,\n",
       "       -1.600e-02, -2.400e-02, -9.000e-03, -4.000e-02, -3.260e-01,\n",
       "       -3.000e-03, -0.000e+00, -3.000e-03, -7.850e-01, -4.000e-03,\n",
       "       -0.000e+00, -1.100e-02,  1.130e-01,  1.157e+00,  1.120e-01,\n",
       "       -9.000e-03,  7.000e-03,  0.000e+00, -9.000e-03, -2.690e-01,\n",
       "       -7.000e-03, -1.100e-02, -3.000e-03,  0.000e+00, -4.000e-03,\n",
       "       -2.000e-02, -2.100e-02, -1.440e-01, -8.300e-02, -1.200e-02,\n",
       "       -1.300e-02, -1.800e-02, -5.000e-03, -7.000e-03, -1.000e-03,\n",
       "       -4.000e-03,  5.000e-03, -7.100e-02,  7.000e-02,  1.370e-01,\n",
       "       -9.700e-02,  8.100e-02,  3.000e-03, -2.730e-01,  1.460e-01,\n",
       "        2.000e-03, -5.500e-02,  0.000e+00,  1.960e-01,  3.300e-02,\n",
       "       -6.500e-02, -1.960e-01,  4.800e-02,  1.600e-02,  3.000e-03,\n",
       "        2.600e-01,  0.000e+00,  0.000e+00,  0.000e+00,  0.000e+00,\n",
       "       -1.000e-02,  2.100e-02,  0.000e+00, -2.120e-01,  1.700e-01,\n",
       "        1.000e-03, -1.800e-02, -1.800e-02, -3.000e-03, -7.000e-03,\n",
       "       -0.000e+00, -4.440e-01, -1.700e-01, -2.290e-01, -1.160e-01,\n",
       "       -1.000e-03, -1.530e-01, -6.800e-02, -2.100e-02, -2.000e-03,\n",
       "        4.480e-01,  2.340e-01, -1.000e-03,  8.000e-03,  0.000e+00,\n",
       "       -4.000e-03,  7.700e-01,  7.200e-01, -3.980e-01,  2.910e-01,\n",
       "       -2.080e-01, -2.200e-02, -3.000e-03, -0.000e+00, -2.700e-02,\n",
       "        2.720e-01,  1.122e+00, -2.590e-01,  6.450e-01, -8.000e-03,\n",
       "       -9.500e-02, -2.000e-01, -5.500e-02, -1.900e-02, -2.000e-03,\n",
       "       -5.690e-01, -1.000e-02, -1.200e-02, -3.000e-03, -6.880e-01,\n",
       "       -1.100e-02, -0.000e+00, -1.480e-01, -3.000e-03,  3.800e-02,\n",
       "       -1.000e-03, -3.800e-02, -1.000e-02,  4.140e-01, -2.000e-03,\n",
       "       -1.000e-03, -1.000e-03, -2.000e-03, -1.000e-03, -1.100e-02,\n",
       "       -2.000e-03,  2.700e-01, -1.620e-01, -2.540e-01, -1.000e-01,\n",
       "        1.960e-01,  7.200e-02, -3.720e-01,  6.380e-01,  3.190e-01,\n",
       "       -2.200e-02, -4.230e-01, -1.410e-01, -1.000e-03, -1.000e-03,\n",
       "       -1.880e-01, -5.800e-02, -3.880e-01, -6.000e-03, -1.360e-01,\n",
       "       -6.370e-01, -5.000e-03, -1.060e-01,  1.373e+00,  4.000e-02,\n",
       "        8.220e-01, -1.160e-01, -6.000e-03, -1.315e+00, -2.930e-01,\n",
       "       -9.000e-03, -4.200e-02,  6.020e-01,  1.000e-03, -2.800e-02,\n",
       "       -1.010e-01, -2.040e-01, -2.100e-02, -3.000e-03, -5.700e-02,\n",
       "       -1.019e+00, -5.800e-02, -8.700e-02,  1.100e-02,  5.000e-03,\n",
       "        0.000e+00, -3.000e-02, -1.700e-01, -2.590e-01,  5.030e-01,\n",
       "       -4.700e-02,  2.010e-01, -0.000e+00, -0.000e+00, -3.000e-03,\n",
       "        1.000e-03, -0.000e+00, -3.600e-02, -1.400e-02, -3.870e-01,\n",
       "       -2.010e-01, -1.210e-01, -5.000e-03, -7.000e-03, -4.000e-03,\n",
       "        0.000e+00, -3.000e-03, -4.000e-03,  2.000e-03,  1.000e-03,\n",
       "       -6.000e-03, -1.200e-02, -3.330e-01, -2.300e-02, -5.000e-03,\n",
       "        0.000e+00, -0.000e+00, -5.560e-01,  9.500e-02,  2.390e-01,\n",
       "        1.750e-01,  0.000e+00,  8.300e-02,  0.000e+00, -1.200e-02,\n",
       "        3.860e-01,  3.520e-01,  5.740e-01, -2.000e-03, -9.000e-03,\n",
       "       -6.300e-02, -6.710e-01,  8.100e-02,  1.000e-03, -1.000e-03,\n",
       "        3.200e-02,  4.170e-01, -2.700e-02, -2.170e-01, -5.000e-03,\n",
       "       -0.000e+00,  2.020e-01, -1.800e-02,  2.680e-01,  2.700e-01,\n",
       "       -1.830e-01,  1.310e-01,  1.580e-01,  1.200e-02,  6.110e-01,\n",
       "        5.660e-01,  1.170e-01, -4.260e-01, -1.220e-01,  2.000e-03,\n",
       "       -3.000e-03, -2.000e-03, -2.800e-02, -2.000e-03, -1.000e-02,\n",
       "       -3.000e-03, -1.390e-01, -7.200e-02,  3.750e-01, -1.850e-01,\n",
       "       -6.900e-02, -9.010e-01,  3.060e-01, -1.264e+00,  1.291e+00,\n",
       "       -6.900e-02, -1.890e-01,  1.395e+00,  3.730e-01, -1.850e-01,\n",
       "        7.400e-02, -8.180e-01,  8.000e-01,  1.710e-01, -1.576e+00,\n",
       "        5.130e-01, -1.100e-02, -6.000e-03])"
      ]
     },
     "execution_count": 184,
     "metadata": {},
     "output_type": "execute_result"
    }
   ],
   "source": [
    "model.coef_[0].round(3)"
   ]
  },
  {
   "cell_type": "markdown",
   "id": "e05872dc",
   "metadata": {},
   "source": [
    "Accuracy"
   ]
  },
  {
   "cell_type": "code",
   "execution_count": 185,
   "id": "5bd9766a",
   "metadata": {},
   "outputs": [
    {
     "data": {
      "text/plain": [
       "array([0.0087346 , 0.99033279, 0.00157489, ..., 0.00145975, 0.97178288,\n",
       "       0.96248167])"
      ]
     },
     "execution_count": 185,
     "metadata": {},
     "output_type": "execute_result"
    }
   ],
   "source": [
    "y_pred = model.predict_proba(X_val)[:,1]\n",
    "y_pred"
   ]
  },
  {
   "cell_type": "code",
   "execution_count": 188,
   "id": "9d51f55a",
   "metadata": {},
   "outputs": [
    {
     "data": {
      "text/plain": [
       "array([0, 1, 0, ..., 0, 1, 1])"
      ]
     },
     "execution_count": 188,
     "metadata": {},
     "output_type": "execute_result"
    }
   ],
   "source": [
    "y_pred = model.predict(X_val)\n",
    "y_pred"
   ]
  },
  {
   "cell_type": "code",
   "execution_count": 190,
   "id": "96a663cd",
   "metadata": {},
   "outputs": [
    {
     "data": {
      "text/plain": [
       "0.9345362987830466"
      ]
     },
     "execution_count": 190,
     "metadata": {},
     "output_type": "execute_result"
    }
   ],
   "source": [
    "accuracy = accuracy_score(y_val, y_pred)\n",
    "accuracy"
   ]
  },
  {
   "cell_type": "markdown",
   "id": "284d44ab",
   "metadata": {},
   "source": [
    "## Answer:\n",
    "\n",
    "- 0.95"
   ]
  },
  {
   "cell_type": "markdown",
   "id": "4f4a70e3",
   "metadata": {},
   "source": [
    "## Question 5\n",
    "\n",
    "- Let's find the least useful feature using the feature elimination technique.\n",
    "- Train a model with all these features (using the same parameters as in Q4).\n",
    "- Now exclude each feature from this set and train a model without it. Record the accuracy for each model.\n",
    "- For each feature, calculate the difference between the original accuracy and the accuracy without the feature.\n",
    "\n",
    "\n",
    "Which of following feature has the smallest difference?\n",
    "\n",
    "- year\n",
    "- engine_hp\n",
    "- transmission_type\n",
    "- city_mpg\n",
    "\n",
    "\n",
    "Note: the difference doesn't have to be positive"
   ]
  },
  {
   "cell_type": "markdown",
   "id": "48e33576",
   "metadata": {},
   "source": [
    "#### Feature elimination"
   ]
  },
  {
   "cell_type": "code",
   "execution_count": 177,
   "id": "e3e2de99",
   "metadata": {},
   "outputs": [
    {
     "data": {
      "text/plain": [
       "['make',\n",
       " 'model',\n",
       " 'transmission_type',\n",
       " 'vehicle_style',\n",
       " 'year',\n",
       " 'engine_hp',\n",
       " 'engine_cylinders',\n",
       " 'highway_mpg',\n",
       " 'city_mpg']"
      ]
     },
     "execution_count": 177,
     "metadata": {},
     "output_type": "execute_result"
    }
   ],
   "source": [
    "features = categorical + numerical\n",
    "features"
   ]
  },
  {
   "cell_type": "code",
   "execution_count": 195,
   "id": "373f8253",
   "metadata": {},
   "outputs": [
    {
     "name": "stdout",
     "output_type": "stream",
     "text": [
      " Excluding feature: make, Model accuracy: 0.9488040285354595, Difference in accuracy: -0.014267729752412972\n",
      " Excluding feature: model, Model accuracy: 0.9164918170373478, Difference in accuracy: 0.018044481745698726\n",
      " Excluding feature: transmission_type, Model accuracy: 0.9450272765421738, Difference in accuracy: -0.010490977759127218\n",
      " Excluding feature: vehicle_style, Model accuracy: 0.9320184641208561, Difference in accuracy: 0.0025178346621904657\n",
      " Excluding feature: year, Model accuracy: 0.9483843894250944, Difference in accuracy: -0.013848090642047839\n",
      " Excluding feature: engine_hp, Model accuracy: 0.9349559378934117, Difference in accuracy: -0.00041963911036513313\n",
      " Excluding feature: engine_cylinders, Model accuracy: 0.9471254720939991, Difference in accuracy: -0.01258917331095255\n",
      " Excluding feature: highway_mpg, Model accuracy: 0.9467058329836341, Difference in accuracy: -0.012169534200587528\n",
      " Excluding feature: city_mpg, Model accuracy: 0.9458665547629039, Difference in accuracy: -0.011330255979857373\n"
     ]
    }
   ],
   "source": [
    "for i in features:\n",
    "    new_features = features.copy()\n",
    "    new_features.remove(i)\n",
    "    \n",
    "    train_dict = df_train[new_features].to_dict(orient='records')\n",
    "    \n",
    "    dv = DictVectorizer(sparse=False)\n",
    "    X_train = dv.fit_transform(train_dict)\n",
    "    \n",
    "    val_dict = df_val[new_features].to_dict(orient='records')\n",
    "    X_val = dv.transform(val_dict)\n",
    "    \n",
    "    model = LogisticRegression(solver='liblinear', C=10, max_iter=1000, random_state=42)\n",
    "    model.fit(X_train, y_train)\n",
    "    \n",
    "    y_pred = model.predict(X_val)\n",
    "    \n",
    "    score = accuracy_score(y_val, y_pred)\n",
    "    print(f' Excluding feature: {i}, Model accuracy: {score}, Difference in accuracy: {accuracy - score}')\n"
   ]
  },
  {
   "cell_type": "markdown",
   "id": "9c4bf4c8",
   "metadata": {},
   "source": [
    "## Answer:\n",
    "\n",
    "- engine_hp - difference between the original accuracy and the accuracy without the engine_hp feature is: **-0.00041963911036513313** "
   ]
  },
  {
   "cell_type": "markdown",
   "id": "d88c7a3b",
   "metadata": {},
   "source": [
    "## Question 6\n",
    "\n",
    "- For this question, we'll see how to use a linear regression model from Scikit-Learn.\n",
    "- We'll need to use the original column price. Apply the logarithmic transformation to this column.\n",
    "- Fit the Ridge regression model on the training data with a solver 'sag'. Set the seed to 42.\n",
    "- This model also has a parameter alpha. Let's try the following values: [0, 0.01, 0.1, 1, 10].\n",
    "- Round your RMSE scores to 3 decimal digits.\n",
    "\n",
    "\n",
    "Which of these alphas leads to the best RMSE on the validation set?\n",
    "\n",
    "- 0\n",
    "- 0.01\n",
    "- 0.1\n",
    "- 1\n",
    "- 10"
   ]
  },
  {
   "cell_type": "code",
   "execution_count": 209,
   "id": "bed9890e",
   "metadata": {},
   "outputs": [
    {
     "data": {
      "text/plain": [
       "<Axes: xlabel='price', ylabel='Count'>"
      ]
     },
     "execution_count": 209,
     "metadata": {},
     "output_type": "execute_result"
    },
    {
     "data": {
      "image/png": "[encoded data removed]",
      "text/plain": [
       "<Figure size 640x480 with 1 Axes>"
      ]
     },
     "metadata": {},
     "output_type": "display_data"
    }
   ],
   "source": [
    "sns.histplot(df_train.price, bins=30)"
   ]
  },
  {
   "cell_type": "code",
   "execution_count": 232,
   "id": "0abe486a",
   "metadata": {},
   "outputs": [
    {
     "data": {
      "text/plain": [
       "count       7148.000\n",
       "mean       40606.938\n",
       "std        59448.109\n",
       "min         2000.000\n",
       "25%        21210.000\n",
       "50%        29995.000\n",
       "75%        42360.000\n",
       "max      2065902.000\n",
       "Name: price, dtype: float64"
      ]
     },
     "execution_count": 232,
     "metadata": {},
     "output_type": "execute_result"
    }
   ],
   "source": [
    "df_train.price.describe().round(3)"
   ]
  },
  {
   "cell_type": "code",
   "execution_count": 233,
   "id": "bab4de48",
   "metadata": {},
   "outputs": [
    {
     "data": {
      "text/plain": [
       "min       2000.0\n",
       "max    2065902.0\n",
       "Name: price, dtype: float64"
      ]
     },
     "execution_count": 233,
     "metadata": {},
     "output_type": "execute_result"
    }
   ],
   "source": [
    "df_train.price.describe().round(3)[[3, 7]]"
   ]
  },
  {
   "cell_type": "code",
   "execution_count": null,
   "id": "ea1bd556",
   "metadata": {},
   "outputs": [],
   "source": []
  },
  {
   "cell_type": "code",
   "execution_count": null,
   "id": "7df48add",
   "metadata": {},
   "outputs": [],
   "source": []
  },
  {
   "cell_type": "code",
   "execution_count": null,
   "id": "89188e79",
   "metadata": {},
   "outputs": [],
   "source": []
  },
  {
   "cell_type": "code",
   "execution_count": null,
   "id": "00d2aa9c",
   "metadata": {},
   "outputs": [],
   "source": []
  }
 ],
 "metadata": {
  "kernelspec": {
   "display_name": "Python 3 (ipykernel)",
   "language": "python",
   "name": "python3"
  },
  "language_info": {
   "codemirror_mode": {
    "name": "ipython",
    "version": 3
   },
   "file_extension": ".py",
   "mimetype": "text/x-python",
   "name": "python",
   "nbconvert_exporter": "python",
   "pygments_lexer": "ipython3",
   "version": "3.8.10"
  }
 },
 "nbformat": 4,
 "nbformat_minor": 5
}
