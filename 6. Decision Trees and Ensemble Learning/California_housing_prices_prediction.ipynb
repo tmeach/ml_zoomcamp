{
 "cells": [
  {
   "cell_type": "markdown",
   "id": "baad2358",
   "metadata": {},
   "source": [
    "In this homework, we will use the California Housing Prices from Kaggle.\n",
    "\n",
    "wget https://raw.githubusercontent.com/alexeygrigorev/datasets/master/housing.csv\n",
    "\n",
    "The goal of this homework is to create a regression model for predicting housing prices (column 'median_house_value')."
   ]
  },
  {
   "cell_type": "markdown",
   "id": "0796c139",
   "metadata": {},
   "source": [
    "## Preparing the dataset\n",
    "\n",
    "For this homework, we only want to use a subset of data. This is the same subset we used in homework #2. But in contrast to homework #2, we are going to use all columns of the dataset.\n",
    "\n",
    "First, keep only the records where ocean_proximity is either '<1H OCEAN' or 'INLAND'\n",
    "\n",
    "Preparation:\n",
    "\n",
    "- Fill missing values with zeros.\n",
    "- Apply the log transform to median_house_value.\n",
    "- Do train/validation/test split with 60%/20%/20% distribution.\n",
    "- Use the train_test_split function and set the random_state parameter to 1.\n",
    "- Use DictVectorizer(sparse=True) to turn the dataframes into matrices."
   ]
  },
  {
   "cell_type": "code",
   "execution_count": 109,
   "id": "49490963",
   "metadata": {},
   "outputs": [],
   "source": [
    "import pandas as pd\n",
    "import numpy as np\n",
    "import re\n",
    "\n",
    "import matplotlib.pyplot as plt \n",
    "import seaborn as sns \n",
    "%matplotlib inline\n",
    "\n",
    "\n",
    "from sklearn.model_selection import train_test_split\n",
    "from sklearn.tree import DecisionTreeRegressor\n",
    "from sklearn.feature_extraction import DictVectorizer\n",
    "from sklearn.tree import export_text"
   ]
  },
  {
   "cell_type": "code",
   "execution_count": 32,
   "id": "4e7fc422",
   "metadata": {},
   "outputs": [
    {
     "data": {
      "text/html": [
       "<div>\n",
       "<style scoped>\n",
       "    .dataframe tbody tr th:only-of-type {\n",
       "        vertical-align: middle;\n",
       "    }\n",
       "\n",
       "    .dataframe tbody tr th {\n",
       "        vertical-align: top;\n",
       "    }\n",
       "\n",
       "    .dataframe thead th {\n",
       "        text-align: right;\n",
       "    }\n",
       "</style>\n",
       "<table border=\"1\" class=\"dataframe\">\n",
       "  <thead>\n",
       "    <tr style=\"text-align: right;\">\n",
       "      <th></th>\n",
       "      <th>longitude</th>\n",
       "      <th>latitude</th>\n",
       "      <th>housing_median_age</th>\n",
       "      <th>total_rooms</th>\n",
       "      <th>total_bedrooms</th>\n",
       "      <th>population</th>\n",
       "      <th>households</th>\n",
       "      <th>median_income</th>\n",
       "      <th>median_house_value</th>\n",
       "      <th>ocean_proximity</th>\n",
       "    </tr>\n",
       "  </thead>\n",
       "  <tbody>\n",
       "    <tr>\n",
       "      <th>0</th>\n",
       "      <td>-122.23</td>\n",
       "      <td>37.88</td>\n",
       "      <td>41.0</td>\n",
       "      <td>880.0</td>\n",
       "      <td>129.0</td>\n",
       "      <td>322.0</td>\n",
       "      <td>126.0</td>\n",
       "      <td>8.3252</td>\n",
       "      <td>452600.0</td>\n",
       "      <td>NEAR BAY</td>\n",
       "    </tr>\n",
       "    <tr>\n",
       "      <th>1</th>\n",
       "      <td>-122.22</td>\n",
       "      <td>37.86</td>\n",
       "      <td>21.0</td>\n",
       "      <td>7099.0</td>\n",
       "      <td>1106.0</td>\n",
       "      <td>2401.0</td>\n",
       "      <td>1138.0</td>\n",
       "      <td>8.3014</td>\n",
       "      <td>358500.0</td>\n",
       "      <td>NEAR BAY</td>\n",
       "    </tr>\n",
       "    <tr>\n",
       "      <th>2</th>\n",
       "      <td>-122.24</td>\n",
       "      <td>37.85</td>\n",
       "      <td>52.0</td>\n",
       "      <td>1467.0</td>\n",
       "      <td>190.0</td>\n",
       "      <td>496.0</td>\n",
       "      <td>177.0</td>\n",
       "      <td>7.2574</td>\n",
       "      <td>352100.0</td>\n",
       "      <td>NEAR BAY</td>\n",
       "    </tr>\n",
       "    <tr>\n",
       "      <th>3</th>\n",
       "      <td>-122.25</td>\n",
       "      <td>37.85</td>\n",
       "      <td>52.0</td>\n",
       "      <td>1274.0</td>\n",
       "      <td>235.0</td>\n",
       "      <td>558.0</td>\n",
       "      <td>219.0</td>\n",
       "      <td>5.6431</td>\n",
       "      <td>341300.0</td>\n",
       "      <td>NEAR BAY</td>\n",
       "    </tr>\n",
       "    <tr>\n",
       "      <th>4</th>\n",
       "      <td>-122.25</td>\n",
       "      <td>37.85</td>\n",
       "      <td>52.0</td>\n",
       "      <td>1627.0</td>\n",
       "      <td>280.0</td>\n",
       "      <td>565.0</td>\n",
       "      <td>259.0</td>\n",
       "      <td>3.8462</td>\n",
       "      <td>342200.0</td>\n",
       "      <td>NEAR BAY</td>\n",
       "    </tr>\n",
       "  </tbody>\n",
       "</table>\n",
       "</div>"
      ],
      "text/plain": [
       "   longitude  latitude  housing_median_age  total_rooms  total_bedrooms  \\\n",
       "0    -122.23     37.88                41.0        880.0           129.0   \n",
       "1    -122.22     37.86                21.0       7099.0          1106.0   \n",
       "2    -122.24     37.85                52.0       1467.0           190.0   \n",
       "3    -122.25     37.85                52.0       1274.0           235.0   \n",
       "4    -122.25     37.85                52.0       1627.0           280.0   \n",
       "\n",
       "   population  households  median_income  median_house_value ocean_proximity  \n",
       "0       322.0       126.0         8.3252            452600.0        NEAR BAY  \n",
       "1      2401.0      1138.0         8.3014            358500.0        NEAR BAY  \n",
       "2       496.0       177.0         7.2574            352100.0        NEAR BAY  \n",
       "3       558.0       219.0         5.6431            341300.0        NEAR BAY  \n",
       "4       565.0       259.0         3.8462            342200.0        NEAR BAY  "
      ]
     },
     "execution_count": 32,
     "metadata": {},
     "output_type": "execute_result"
    }
   ],
   "source": [
    "df = pd.read_csv('/home/timur/work_hub/ml_zoomcamp2023/6. Decision Trees and Ensemble Learning/housing.csv')\n",
    "df.head()"
   ]
  },
  {
   "cell_type": "code",
   "execution_count": 33,
   "id": "582abcc9",
   "metadata": {},
   "outputs": [
    {
     "data": {
      "text/plain": [
       "array(['NEAR BAY', '<1H OCEAN', 'INLAND', 'NEAR OCEAN', 'ISLAND'],\n",
       "      dtype=object)"
      ]
     },
     "execution_count": 33,
     "metadata": {},
     "output_type": "execute_result"
    }
   ],
   "source": [
    "df.ocean_proximity.unique()"
   ]
  },
  {
   "cell_type": "code",
   "execution_count": 34,
   "id": "302e6be0",
   "metadata": {},
   "outputs": [
    {
     "data": {
      "text/html": [
       "<div>\n",
       "<style scoped>\n",
       "    .dataframe tbody tr th:only-of-type {\n",
       "        vertical-align: middle;\n",
       "    }\n",
       "\n",
       "    .dataframe tbody tr th {\n",
       "        vertical-align: top;\n",
       "    }\n",
       "\n",
       "    .dataframe thead th {\n",
       "        text-align: right;\n",
       "    }\n",
       "</style>\n",
       "<table border=\"1\" class=\"dataframe\">\n",
       "  <thead>\n",
       "    <tr style=\"text-align: right;\">\n",
       "      <th></th>\n",
       "      <th>longitude</th>\n",
       "      <th>latitude</th>\n",
       "      <th>housing_median_age</th>\n",
       "      <th>total_rooms</th>\n",
       "      <th>total_bedrooms</th>\n",
       "      <th>population</th>\n",
       "      <th>households</th>\n",
       "      <th>median_income</th>\n",
       "      <th>median_house_value</th>\n",
       "      <th>ocean_proximity</th>\n",
       "    </tr>\n",
       "  </thead>\n",
       "  <tbody>\n",
       "    <tr>\n",
       "      <th>701</th>\n",
       "      <td>-121.97</td>\n",
       "      <td>37.64</td>\n",
       "      <td>32.0</td>\n",
       "      <td>1283.0</td>\n",
       "      <td>194.0</td>\n",
       "      <td>485.0</td>\n",
       "      <td>171.0</td>\n",
       "      <td>6.0574</td>\n",
       "      <td>431000.0</td>\n",
       "      <td>&lt;1H OCEAN</td>\n",
       "    </tr>\n",
       "    <tr>\n",
       "      <th>830</th>\n",
       "      <td>-121.99</td>\n",
       "      <td>37.61</td>\n",
       "      <td>9.0</td>\n",
       "      <td>3666.0</td>\n",
       "      <td>711.0</td>\n",
       "      <td>2341.0</td>\n",
       "      <td>703.0</td>\n",
       "      <td>4.6458</td>\n",
       "      <td>217000.0</td>\n",
       "      <td>&lt;1H OCEAN</td>\n",
       "    </tr>\n",
       "    <tr>\n",
       "      <th>859</th>\n",
       "      <td>-121.97</td>\n",
       "      <td>37.57</td>\n",
       "      <td>21.0</td>\n",
       "      <td>4342.0</td>\n",
       "      <td>783.0</td>\n",
       "      <td>2172.0</td>\n",
       "      <td>789.0</td>\n",
       "      <td>4.6146</td>\n",
       "      <td>247600.0</td>\n",
       "      <td>&lt;1H OCEAN</td>\n",
       "    </tr>\n",
       "    <tr>\n",
       "      <th>860</th>\n",
       "      <td>-121.96</td>\n",
       "      <td>37.58</td>\n",
       "      <td>15.0</td>\n",
       "      <td>3575.0</td>\n",
       "      <td>597.0</td>\n",
       "      <td>1777.0</td>\n",
       "      <td>559.0</td>\n",
       "      <td>5.7192</td>\n",
       "      <td>283500.0</td>\n",
       "      <td>&lt;1H OCEAN</td>\n",
       "    </tr>\n",
       "    <tr>\n",
       "      <th>861</th>\n",
       "      <td>-121.98</td>\n",
       "      <td>37.58</td>\n",
       "      <td>20.0</td>\n",
       "      <td>4126.0</td>\n",
       "      <td>1031.0</td>\n",
       "      <td>2079.0</td>\n",
       "      <td>975.0</td>\n",
       "      <td>3.6832</td>\n",
       "      <td>216900.0</td>\n",
       "      <td>&lt;1H OCEAN</td>\n",
       "    </tr>\n",
       "  </tbody>\n",
       "</table>\n",
       "</div>"
      ],
      "text/plain": [
       "     longitude  latitude  housing_median_age  total_rooms  total_bedrooms  \\\n",
       "701    -121.97     37.64                32.0       1283.0           194.0   \n",
       "830    -121.99     37.61                 9.0       3666.0           711.0   \n",
       "859    -121.97     37.57                21.0       4342.0           783.0   \n",
       "860    -121.96     37.58                15.0       3575.0           597.0   \n",
       "861    -121.98     37.58                20.0       4126.0          1031.0   \n",
       "\n",
       "     population  households  median_income  median_house_value ocean_proximity  \n",
       "701       485.0       171.0         6.0574            431000.0       <1H OCEAN  \n",
       "830      2341.0       703.0         4.6458            217000.0       <1H OCEAN  \n",
       "859      2172.0       789.0         4.6146            247600.0       <1H OCEAN  \n",
       "860      1777.0       559.0         5.7192            283500.0       <1H OCEAN  \n",
       "861      2079.0       975.0         3.6832            216900.0       <1H OCEAN  "
      ]
     },
     "execution_count": 34,
     "metadata": {},
     "output_type": "execute_result"
    }
   ],
   "source": [
    "df = df.query(\"ocean_proximity == '<1H OCEAN' or ocean_proximity == 'INLAND'\")\n",
    "df.head()"
   ]
  },
  {
   "cell_type": "markdown",
   "id": "524de49c",
   "metadata": {},
   "source": [
    "#### Fill missing values with zeros"
   ]
  },
  {
   "cell_type": "code",
   "execution_count": 35,
   "id": "8854c3a4",
   "metadata": {},
   "outputs": [
    {
     "data": {
      "text/plain": [
       "longitude               0\n",
       "latitude                0\n",
       "housing_median_age      0\n",
       "total_rooms             0\n",
       "total_bedrooms        157\n",
       "population              0\n",
       "households              0\n",
       "median_income           0\n",
       "median_house_value      0\n",
       "ocean_proximity         0\n",
       "dtype: int64"
      ]
     },
     "execution_count": 35,
     "metadata": {},
     "output_type": "execute_result"
    }
   ],
   "source": [
    "df.isna().sum()"
   ]
  },
  {
   "cell_type": "code",
   "execution_count": 36,
   "id": "1fe30782",
   "metadata": {},
   "outputs": [],
   "source": [
    "df['total_bedrooms'] = df.total_bedrooms.fillna(0)"
   ]
  },
  {
   "cell_type": "code",
   "execution_count": 37,
   "id": "2c0bd4d3",
   "metadata": {},
   "outputs": [
    {
     "data": {
      "text/plain": [
       "longitude             0\n",
       "latitude              0\n",
       "housing_median_age    0\n",
       "total_rooms           0\n",
       "total_bedrooms        0\n",
       "population            0\n",
       "households            0\n",
       "median_income         0\n",
       "median_house_value    0\n",
       "ocean_proximity       0\n",
       "dtype: int64"
      ]
     },
     "execution_count": 37,
     "metadata": {},
     "output_type": "execute_result"
    }
   ],
   "source": [
    "df.isna().sum()"
   ]
  },
  {
   "cell_type": "markdown",
   "id": "ce8a20d6",
   "metadata": {},
   "source": [
    "#### Apply the log transform to median_house_value"
   ]
  },
  {
   "cell_type": "code",
   "execution_count": 38,
   "id": "51c170ae",
   "metadata": {},
   "outputs": [
    {
     "data": {
      "text/plain": [
       "<Axes: xlabel='median_house_value', ylabel='Count'>"
      ]
     },
     "execution_count": 38,
     "metadata": {},
     "output_type": "execute_result"
    },
    {
     "data": {
      "image/png": "[encoded data removed]",
      "text/plain": [
       "<Figure size 640x480 with 1 Axes>"
      ]
     },
     "metadata": {},
     "output_type": "display_data"
    }
   ],
   "source": [
    "sns.histplot(df['median_house_value'])"
   ]
  },
  {
   "cell_type": "markdown",
   "id": "15be91a6",
   "metadata": {},
   "source": [
    "#### Do train/validation/test split with 60%/20%/20% distribution"
   ]
  },
  {
   "cell_type": "code",
   "execution_count": 46,
   "id": "8d643e3d",
   "metadata": {},
   "outputs": [],
   "source": [
    "df_full_train, df_test = train_test_split(df, test_size=0.2, random_state=1)\n",
    "df_train, df_val = train_test_split(df_full_train, test_size=0.25, random_state=1)\n",
    "\n",
    "\n",
    "df_train = df_train.reset_index(drop=True)\n",
    "df_val = df_val.reset_index(drop=True)\n",
    "df_test = df_test.reset_index(drop=True)\n",
    "\n",
    "y_train = np.log1p(df_train.median_house_value.values)\n",
    "y_val = np.log1p(df_val.median_house_value.values)\n",
    "y_test = np.log1p(df_test.median_house_value.values)\n",
    "\n",
    "del df_train['median_house_value']\n",
    "del df_val['median_house_value']\n",
    "del df_test['median_house_value']"
   ]
  },
  {
   "cell_type": "code",
   "execution_count": 48,
   "id": "a8e837e1",
   "metadata": {},
   "outputs": [
    {
     "data": {
      "text/plain": [
       "(9411, 6276)"
      ]
     },
     "execution_count": 48,
     "metadata": {},
     "output_type": "execute_result"
    }
   ],
   "source": [
    "len(df_train), len(df_val) + len(df_test)"
   ]
  },
  {
   "cell_type": "markdown",
   "id": "1630f22c",
   "metadata": {},
   "source": [
    "#### Use DictVectorizer(sparse=True) to turn the dataframes into matrices.\n"
   ]
  },
  {
   "cell_type": "code",
   "execution_count": 49,
   "id": "c21c50b7",
   "metadata": {},
   "outputs": [],
   "source": [
    "dv = DictVectorizer(sparse=True)\n",
    "\n",
    "train_dict = df_train.to_dict(orient='records')\n",
    "X_train = dv.fit_transform(train_dict)\n",
    "\n",
    "\n",
    "val_dict = df_val.to_dict(orient='records')\n",
    "X_val = dv.transform(val_dict)"
   ]
  },
  {
   "cell_type": "markdown",
   "id": "b94235d1",
   "metadata": {},
   "source": [
    "## Question 1\n",
    "\n",
    "Let's train a decision tree regressor to predict the median_house_value variable.\n",
    "\n",
    "- Train a model with max_depth=1.\n",
    "\n",
    "Which feature is used for splitting the data?\n",
    "\n",
    "- ocean_proximity\n",
    "- total_rooms\n",
    "- latitude\n",
    "- population"
   ]
  },
  {
   "cell_type": "code",
   "execution_count": 50,
   "id": "9dab13cd",
   "metadata": {},
   "outputs": [
    {
     "data": {
      "text/plain": [
       "DecisionTreeRegressor(max_depth=1)"
      ]
     },
     "execution_count": 50,
     "metadata": {},
     "output_type": "execute_result"
    }
   ],
   "source": [
    "dt = DecisionTreeRegressor(max_depth=1)\n",
    "dt.fit(X_train, y_train)"
   ]
  },
  {
   "cell_type": "code",
   "execution_count": 51,
   "id": "3e6a737e",
   "metadata": {},
   "outputs": [],
   "source": [
    "y_pred = dt.predict(X_val)"
   ]
  },
  {
   "cell_type": "code",
   "execution_count": 52,
   "id": "b9232234",
   "metadata": {},
   "outputs": [
    {
     "data": {
      "text/plain": [
       "<9411x3 sparse matrix of type '<class 'numpy.int64'>'\n",
       "\twith 18822 stored elements in Compressed Sparse Row format>"
      ]
     },
     "execution_count": 52,
     "metadata": {},
     "output_type": "execute_result"
    }
   ],
   "source": [
    "dt.decision_path(X_train)"
   ]
  },
  {
   "cell_type": "code",
   "execution_count": 53,
   "id": "a0fd8694",
   "metadata": {},
   "outputs": [
    {
     "name": "stdout",
     "output_type": "stream",
     "text": [
      "|--- ocean_proximity=<1H OCEAN <= 0.50\n",
      "|   |--- value: [11.61]\n",
      "|--- ocean_proximity=<1H OCEAN >  0.50\n",
      "|   |--- value: [12.30]\n",
      "\n"
     ]
    },
    {
     "name": "stderr",
     "output_type": "stream",
     "text": [
      "/home/timur/.local/lib/python3.8/site-packages/sklearn/utils/deprecation.py:87: FutureWarning: Function get_feature_names is deprecated; get_feature_names is deprecated in 1.0 and will be removed in 1.2. Please use get_feature_names_out instead.\n",
      "  warnings.warn(msg, category=FutureWarning)\n"
     ]
    }
   ],
   "source": [
    "print(export_text(dt, feature_names=dv.get_feature_names()))"
   ]
  },
  {
   "cell_type": "markdown",
   "id": "b1de5c03",
   "metadata": {},
   "source": [
    "## Answer: \n",
    "- ocean_proximity"
   ]
  },
  {
   "cell_type": "markdown",
   "id": "d4abe175",
   "metadata": {},
   "source": [
    "  "
   ]
  },
  {
   "cell_type": "markdown",
   "id": "54991a04",
   "metadata": {},
   "source": [
    "## Question 2\n",
    "\n",
    "Train a random forest model with these parameters:\n",
    "\n",
    "- n_estimators=10\n",
    "- random_state=1\n",
    "- n_jobs=-1 (optional - to make training faster)\n",
    "\n",
    "What's the RMSE of this model on validation?\n",
    "\n",
    "- 0.045\n",
    "- 0.245\n",
    "- 0.545\n",
    "- 0.845"
   ]
  },
  {
   "cell_type": "code",
   "execution_count": 54,
   "id": "1737eea9",
   "metadata": {},
   "outputs": [],
   "source": [
    "from sklearn.ensemble import RandomForestRegressor\n",
    "from sklearn.metrics import mean_squared_error"
   ]
  },
  {
   "cell_type": "code",
   "execution_count": 55,
   "id": "ad7692e2",
   "metadata": {},
   "outputs": [],
   "source": [
    "parameters = {\n",
    "    'n_estimators':10,\n",
    "    'random_state':1,\n",
    "    'n_jobs':-1\n",
    "}"
   ]
  },
  {
   "cell_type": "code",
   "execution_count": 56,
   "id": "9653b159",
   "metadata": {},
   "outputs": [
    {
     "data": {
      "text/plain": [
       "RandomForestRegressor(n_estimators=10, n_jobs=-1, random_state=1)"
      ]
     },
     "execution_count": 56,
     "metadata": {},
     "output_type": "execute_result"
    }
   ],
   "source": [
    "rf = RandomForestRegressor(**parameters)\n",
    "rf.fit(X_train, y_train)"
   ]
  },
  {
   "cell_type": "code",
   "execution_count": 57,
   "id": "43b66347",
   "metadata": {},
   "outputs": [
    {
     "data": {
      "text/plain": [
       "0.2449529003059715"
      ]
     },
     "execution_count": 57,
     "metadata": {},
     "output_type": "execute_result"
    }
   ],
   "source": [
    "y_pred = rf.predict(X_val)\n",
    "RMSE = np.sqrt(mean_squared_error(y_val, y_pred))\n",
    "RMSE"
   ]
  },
  {
   "cell_type": "markdown",
   "id": "1b488e5f",
   "metadata": {},
   "source": [
    "## Answer: \n",
    "\n",
    "- 0.245"
   ]
  },
  {
   "cell_type": "markdown",
   "id": "28bd5c76",
   "metadata": {},
   "source": [
    "## Question 3\n",
    "\n",
    "Now let's experiment with the n_estimators parameter\n",
    "\n",
    "- Try different values of this parameter from 10 to 200 with step 10.\n",
    "- Set random_state to 1.\n",
    "- Evaluate the model on the validation dataset.\n",
    "\n",
    "After which value of n_estimators does RMSE stop improving? Consider 3 decimal places for retrieving the answer.\n",
    "\n",
    "- 10\n",
    "- 25\n",
    "- 50\n",
    "- 160"
   ]
  },
  {
   "cell_type": "code",
   "execution_count": 58,
   "id": "70597878",
   "metadata": {},
   "outputs": [],
   "source": [
    "scores = []\n",
    "\n",
    "for n in range(10, 201, 10):\n",
    "    rf = RandomForestRegressor(n_estimators=n, random_state=1, n_jobs=-1)\n",
    "    rf.fit(X_train, y_train)\n",
    "    \n",
    "    y_pred = rf.predict(X_val)\n",
    "    rmse = np.sqrt(mean_squared_error(y_val, y_pred))\n",
    "    \n",
    "    scores.append((n, rmse))"
   ]
  },
  {
   "cell_type": "code",
   "execution_count": 71,
   "id": "660bea1c",
   "metadata": {},
   "outputs": [
    {
     "data": {
      "text/plain": [
       "[(10, 0.24495290030597147),\n",
       " (20, 0.238333589873668),\n",
       " (30, 0.23650402956159838),\n",
       " (40, 0.23509490973460043),\n",
       " (50, 0.23475019819586201),\n",
       " (60, 0.2345062010902977),\n",
       " (70, 0.23440154550608353),\n",
       " (80, 0.23457219159286974),\n",
       " (90, 0.23447044062017394),\n",
       " (100, 0.23428380626857082),\n",
       " (110, 0.23421064634979386),\n",
       " (120, 0.23402229395554794),\n",
       " (130, 0.2338243957678853),\n",
       " (140, 0.2336636643354058),\n",
       " (150, 0.2335480207820043),\n",
       " (160, 0.23342267954173773),\n",
       " (170, 0.23338695822923008),\n",
       " (180, 0.23356148302077015),\n",
       " (190, 0.23380601278831947),\n",
       " (200, 0.23370275895578776)]"
      ]
     },
     "execution_count": 71,
     "metadata": {},
     "output_type": "execute_result"
    }
   ],
   "source": [
    "scores"
   ]
  },
  {
   "cell_type": "code",
   "execution_count": 80,
   "id": "3c615a5e",
   "metadata": {},
   "outputs": [
    {
     "data": {
      "text/html": [
       "<div>\n",
       "<style scoped>\n",
       "    .dataframe tbody tr th:only-of-type {\n",
       "        vertical-align: middle;\n",
       "    }\n",
       "\n",
       "    .dataframe tbody tr th {\n",
       "        vertical-align: top;\n",
       "    }\n",
       "\n",
       "    .dataframe thead th {\n",
       "        text-align: right;\n",
       "    }\n",
       "</style>\n",
       "<table border=\"1\" class=\"dataframe\">\n",
       "  <thead>\n",
       "    <tr style=\"text-align: right;\">\n",
       "      <th></th>\n",
       "      <th>n_estimators</th>\n",
       "      <th>rmse</th>\n",
       "    </tr>\n",
       "  </thead>\n",
       "  <tbody>\n",
       "    <tr>\n",
       "      <th>16</th>\n",
       "      <td>170</td>\n",
       "      <td>0.233</td>\n",
       "    </tr>\n",
       "    <tr>\n",
       "      <th>15</th>\n",
       "      <td>160</td>\n",
       "      <td>0.233</td>\n",
       "    </tr>\n",
       "    <tr>\n",
       "      <th>14</th>\n",
       "      <td>150</td>\n",
       "      <td>0.234</td>\n",
       "    </tr>\n",
       "    <tr>\n",
       "      <th>17</th>\n",
       "      <td>180</td>\n",
       "      <td>0.234</td>\n",
       "    </tr>\n",
       "    <tr>\n",
       "      <th>13</th>\n",
       "      <td>140</td>\n",
       "      <td>0.234</td>\n",
       "    </tr>\n",
       "    <tr>\n",
       "      <th>19</th>\n",
       "      <td>200</td>\n",
       "      <td>0.234</td>\n",
       "    </tr>\n",
       "    <tr>\n",
       "      <th>18</th>\n",
       "      <td>190</td>\n",
       "      <td>0.234</td>\n",
       "    </tr>\n",
       "    <tr>\n",
       "      <th>12</th>\n",
       "      <td>130</td>\n",
       "      <td>0.234</td>\n",
       "    </tr>\n",
       "    <tr>\n",
       "      <th>11</th>\n",
       "      <td>120</td>\n",
       "      <td>0.234</td>\n",
       "    </tr>\n",
       "    <tr>\n",
       "      <th>10</th>\n",
       "      <td>110</td>\n",
       "      <td>0.234</td>\n",
       "    </tr>\n",
       "    <tr>\n",
       "      <th>9</th>\n",
       "      <td>100</td>\n",
       "      <td>0.234</td>\n",
       "    </tr>\n",
       "    <tr>\n",
       "      <th>6</th>\n",
       "      <td>70</td>\n",
       "      <td>0.234</td>\n",
       "    </tr>\n",
       "    <tr>\n",
       "      <th>8</th>\n",
       "      <td>90</td>\n",
       "      <td>0.234</td>\n",
       "    </tr>\n",
       "    <tr>\n",
       "      <th>5</th>\n",
       "      <td>60</td>\n",
       "      <td>0.235</td>\n",
       "    </tr>\n",
       "    <tr>\n",
       "      <th>7</th>\n",
       "      <td>80</td>\n",
       "      <td>0.235</td>\n",
       "    </tr>\n",
       "    <tr>\n",
       "      <th>4</th>\n",
       "      <td>50</td>\n",
       "      <td>0.235</td>\n",
       "    </tr>\n",
       "    <tr>\n",
       "      <th>3</th>\n",
       "      <td>40</td>\n",
       "      <td>0.235</td>\n",
       "    </tr>\n",
       "    <tr>\n",
       "      <th>2</th>\n",
       "      <td>30</td>\n",
       "      <td>0.237</td>\n",
       "    </tr>\n",
       "    <tr>\n",
       "      <th>1</th>\n",
       "      <td>20</td>\n",
       "      <td>0.238</td>\n",
       "    </tr>\n",
       "    <tr>\n",
       "      <th>0</th>\n",
       "      <td>10</td>\n",
       "      <td>0.245</td>\n",
       "    </tr>\n",
       "  </tbody>\n",
       "</table>\n",
       "</div>"
      ],
      "text/plain": [
       "    n_estimators   rmse\n",
       "16           170  0.233\n",
       "15           160  0.233\n",
       "14           150  0.234\n",
       "17           180  0.234\n",
       "13           140  0.234\n",
       "19           200  0.234\n",
       "18           190  0.234\n",
       "12           130  0.234\n",
       "11           120  0.234\n",
       "10           110  0.234\n",
       "9            100  0.234\n",
       "6             70  0.234\n",
       "8             90  0.234\n",
       "5             60  0.235\n",
       "7             80  0.235\n",
       "4             50  0.235\n",
       "3             40  0.235\n",
       "2             30  0.237\n",
       "1             20  0.238\n",
       "0             10  0.245"
      ]
     },
     "execution_count": 80,
     "metadata": {},
     "output_type": "execute_result"
    }
   ],
   "source": [
    "df_scores = pd.DataFrame(scores, columns=['n_estimators', 'rmse']).sort_values('rmse')\n",
    "df_scores['rmse'] = df_scores.rmse.round(3)\n",
    "df_scores"
   ]
  },
  {
   "cell_type": "code",
   "execution_count": 78,
   "id": "99426d31",
   "metadata": {},
   "outputs": [
    {
     "data": {
      "image/png": "[encoded data removed]",
      "text/plain": [
       "<Figure size 640x480 with 1 Axes>"
      ]
     },
     "metadata": {},
     "output_type": "display_data"
    }
   ],
   "source": [
    "plt.plot(df_scores.n_estimators, df_scores.rmse)\n",
    "plt.show()"
   ]
  },
  {
   "cell_type": "markdown",
   "id": "29937e39",
   "metadata": {},
   "source": [
    "- After which value of n_estimators does RMSE stop improving? Consider 3 decimal places for retrieving the answer.\n",
    "\n",
    "## Answer: \n",
    "- 160"
   ]
  },
  {
   "cell_type": "markdown",
   "id": "83553067",
   "metadata": {},
   "source": [
    "## Question 4\n",
    "\n",
    "Let's select the best max_depth:\n",
    "\n",
    "- Try different values of max_depth: [10, 15, 20, 25]\n",
    "- For each of these values,\n",
    "    - try different values of n_estimators from 10 till 200 (with step 10)\n",
    "    - calculate the mean RMSE\n",
    "\n",
    "- Fix the random seed: random_state=1\n",
    "\n",
    "What's the best max_depth, using the mean RMSE?\n",
    "\n",
    "- 10\n",
    "- 15\n",
    "- 20\n",
    "- 25"
   ]
  },
  {
   "cell_type": "code",
   "execution_count": 83,
   "id": "2e766413",
   "metadata": {},
   "outputs": [],
   "source": [
    "scores = []\n",
    "\n",
    "for d in [10, 15, 20, 25]:\n",
    "    for n in range(10, 201, 10):\n",
    "        rf = RandomForestRegressor(max_depth=d, n_estimators=n, random_state=1, n_jobs=-1)\n",
    "        \n",
    "        rf.fit(X_train, y_train)\n",
    "    \n",
    "        y_pred = rf.predict(X_val)\n",
    "        rmse = np.sqrt(mean_squared_error(y_val, y_pred))\n",
    "        scores.append((d, n, rmse))"
   ]
  },
  {
   "cell_type": "code",
   "execution_count": 87,
   "id": "832f678b",
   "metadata": {},
   "outputs": [
    {
     "data": {
      "text/html": [
       "<div>\n",
       "<style scoped>\n",
       "    .dataframe tbody tr th:only-of-type {\n",
       "        vertical-align: middle;\n",
       "    }\n",
       "\n",
       "    .dataframe tbody tr th {\n",
       "        vertical-align: top;\n",
       "    }\n",
       "\n",
       "    .dataframe thead th {\n",
       "        text-align: right;\n",
       "    }\n",
       "</style>\n",
       "<table border=\"1\" class=\"dataframe\">\n",
       "  <thead>\n",
       "    <tr style=\"text-align: right;\">\n",
       "      <th></th>\n",
       "      <th>max_depth</th>\n",
       "      <th>n_estimators</th>\n",
       "      <th>rmse</th>\n",
       "    </tr>\n",
       "  </thead>\n",
       "  <tbody>\n",
       "    <tr>\n",
       "      <th>0</th>\n",
       "      <td>10</td>\n",
       "      <td>10</td>\n",
       "      <td>0.250682</td>\n",
       "    </tr>\n",
       "    <tr>\n",
       "      <th>1</th>\n",
       "      <td>10</td>\n",
       "      <td>20</td>\n",
       "      <td>0.247455</td>\n",
       "    </tr>\n",
       "    <tr>\n",
       "      <th>2</th>\n",
       "      <td>10</td>\n",
       "      <td>30</td>\n",
       "      <td>0.246264</td>\n",
       "    </tr>\n",
       "    <tr>\n",
       "      <th>3</th>\n",
       "      <td>10</td>\n",
       "      <td>40</td>\n",
       "      <td>0.245029</td>\n",
       "    </tr>\n",
       "    <tr>\n",
       "      <th>4</th>\n",
       "      <td>10</td>\n",
       "      <td>50</td>\n",
       "      <td>0.245430</td>\n",
       "    </tr>\n",
       "    <tr>\n",
       "      <th>...</th>\n",
       "      <td>...</td>\n",
       "      <td>...</td>\n",
       "      <td>...</td>\n",
       "    </tr>\n",
       "    <tr>\n",
       "      <th>75</th>\n",
       "      <td>25</td>\n",
       "      <td>160</td>\n",
       "      <td>0.233395</td>\n",
       "    </tr>\n",
       "    <tr>\n",
       "      <th>76</th>\n",
       "      <td>25</td>\n",
       "      <td>170</td>\n",
       "      <td>0.233390</td>\n",
       "    </tr>\n",
       "    <tr>\n",
       "      <th>77</th>\n",
       "      <td>25</td>\n",
       "      <td>180</td>\n",
       "      <td>0.233572</td>\n",
       "    </tr>\n",
       "    <tr>\n",
       "      <th>78</th>\n",
       "      <td>25</td>\n",
       "      <td>190</td>\n",
       "      <td>0.233811</td>\n",
       "    </tr>\n",
       "    <tr>\n",
       "      <th>79</th>\n",
       "      <td>25</td>\n",
       "      <td>200</td>\n",
       "      <td>0.233694</td>\n",
       "    </tr>\n",
       "  </tbody>\n",
       "</table>\n",
       "<p>80 rows × 3 columns</p>\n",
       "</div>"
      ],
      "text/plain": [
       "    max_depth  n_estimators      rmse\n",
       "0          10            10  0.250682\n",
       "1          10            20  0.247455\n",
       "2          10            30  0.246264\n",
       "3          10            40  0.245029\n",
       "4          10            50  0.245430\n",
       "..        ...           ...       ...\n",
       "75         25           160  0.233395\n",
       "76         25           170  0.233390\n",
       "77         25           180  0.233572\n",
       "78         25           190  0.233811\n",
       "79         25           200  0.233694\n",
       "\n",
       "[80 rows x 3 columns]"
      ]
     },
     "execution_count": 87,
     "metadata": {},
     "output_type": "execute_result"
    }
   ],
   "source": [
    "df_scores = pd.DataFrame(scores, columns=['max_depth', 'n_estimators', 'rmse'])\n",
    "df_scores"
   ]
  },
  {
   "cell_type": "code",
   "execution_count": 88,
   "id": "e54ee657",
   "metadata": {},
   "outputs": [
    {
     "data": {
      "image/png": "[encoded data removed]",
      "text/plain": [
       "<Figure size 640x480 with 1 Axes>"
      ]
     },
     "metadata": {},
     "output_type": "display_data"
    }
   ],
   "source": [
    "for d in [10, 15, 20, 25]:\n",
    "    df_subset = df_scores[df_scores.max_depth == d]\n",
    "    plt.plot(df_subset.n_estimators, df_subset.rmse, label=d)\n",
    "\n",
    "plt.legend()\n",
    "plt.show()\n",
    "     "
   ]
  },
  {
   "cell_type": "markdown",
   "id": "cf497056",
   "metadata": {},
   "source": [
    "- What's the best max_depth, using the mean RMSE?\n",
    "\n",
    "## Answer: \n",
    "\n",
    "- 25"
   ]
  },
  {
   "cell_type": "markdown",
   "id": "c77a717e",
   "metadata": {},
   "source": [
    "## Question 5\n",
    "\n",
    "\n",
    "We can extract feature importance information from tree-based models.\n",
    "\n",
    "At each step of the decision tree learning algorithm, it finds the best split. When doing it, we can calculate \"gain\" - the reduction in impurity before and after the split. This gain is quite useful in understanding what are the important features for tree-based models.\n",
    "\n",
    "In Scikit-Learn, tree-based models contain this information in the feature_importances_ field.\n",
    "\n",
    "For this homework question, we'll find the most important feature:\n",
    "\n",
    "- Train the model with these parameters:\n",
    "    - n_estimators=10,\n",
    "    - max_depth=20,\n",
    "    - random_state=1,\n",
    "    - n_jobs=-1 (optional)\n",
    "\n",
    "- Get the feature importance information from this model\n",
    "\n",
    "What's the most important feature (among these 4)?\n",
    "\n",
    "- total_rooms\n",
    "- median_income\n",
    "- total_bedrooms\n",
    "- longitude"
   ]
  },
  {
   "cell_type": "markdown",
   "id": "f25bff86",
   "metadata": {},
   "source": [
    "Train the model"
   ]
  },
  {
   "cell_type": "code",
   "execution_count": 91,
   "id": "a74d6c6a",
   "metadata": {},
   "outputs": [
    {
     "data": {
      "text/plain": [
       "RandomForestRegressor(max_depth=20, n_estimators=10, n_jobs=-1, random_state=1)"
      ]
     },
     "execution_count": 91,
     "metadata": {},
     "output_type": "execute_result"
    }
   ],
   "source": [
    "rf = RandomForestRegressor(n_estimators=10, max_depth=20, random_state=1, n_jobs=-1)\n",
    "\n",
    "rf.fit(X_train, y_train)"
   ]
  },
  {
   "cell_type": "markdown",
   "id": "bb197449",
   "metadata": {},
   "source": [
    "Feature importance"
   ]
  },
  {
   "cell_type": "code",
   "execution_count": 92,
   "id": "eae6180e",
   "metadata": {},
   "outputs": [
    {
     "data": {
      "text/plain": [
       "array([0.01495348, 0.03019435, 0.10189142, 0.0861758 , 0.33566849,\n",
       "       0.29247297, 0.07380644, 0.02682069, 0.01624481, 0.02177155])"
      ]
     },
     "execution_count": 92,
     "metadata": {},
     "output_type": "execute_result"
    }
   ],
   "source": [
    "rf.feature_importances_"
   ]
  },
  {
   "cell_type": "code",
   "execution_count": 99,
   "id": "b456af5f",
   "metadata": {},
   "outputs": [],
   "source": [
    "df_ft_importance = pd.DataFrame()\n",
    "df_ft_importance['feature'] = dv.feature_names_\n",
    "df_ft_importance['importance'] = rf.feature_importances_\n",
    "df_ft_importance = df_ft_importance.sort_values('importance', ascending=False)"
   ]
  },
  {
   "cell_type": "code",
   "execution_count": 100,
   "id": "7145e501",
   "metadata": {},
   "outputs": [
    {
     "data": {
      "text/html": [
       "<div>\n",
       "<style scoped>\n",
       "    .dataframe tbody tr th:only-of-type {\n",
       "        vertical-align: middle;\n",
       "    }\n",
       "\n",
       "    .dataframe tbody tr th {\n",
       "        vertical-align: top;\n",
       "    }\n",
       "\n",
       "    .dataframe thead th {\n",
       "        text-align: right;\n",
       "    }\n",
       "</style>\n",
       "<table border=\"1\" class=\"dataframe\">\n",
       "  <thead>\n",
       "    <tr style=\"text-align: right;\">\n",
       "      <th></th>\n",
       "      <th>feature</th>\n",
       "      <th>importance</th>\n",
       "    </tr>\n",
       "  </thead>\n",
       "  <tbody>\n",
       "    <tr>\n",
       "      <th>4</th>\n",
       "      <td>median_income</td>\n",
       "      <td>0.335668</td>\n",
       "    </tr>\n",
       "    <tr>\n",
       "      <th>5</th>\n",
       "      <td>ocean_proximity=&lt;1H OCEAN</td>\n",
       "      <td>0.292473</td>\n",
       "    </tr>\n",
       "    <tr>\n",
       "      <th>2</th>\n",
       "      <td>latitude</td>\n",
       "      <td>0.101891</td>\n",
       "    </tr>\n",
       "    <tr>\n",
       "      <th>3</th>\n",
       "      <td>longitude</td>\n",
       "      <td>0.086176</td>\n",
       "    </tr>\n",
       "    <tr>\n",
       "      <th>6</th>\n",
       "      <td>ocean_proximity=INLAND</td>\n",
       "      <td>0.073806</td>\n",
       "    </tr>\n",
       "    <tr>\n",
       "      <th>1</th>\n",
       "      <td>housing_median_age</td>\n",
       "      <td>0.030194</td>\n",
       "    </tr>\n",
       "    <tr>\n",
       "      <th>7</th>\n",
       "      <td>population</td>\n",
       "      <td>0.026821</td>\n",
       "    </tr>\n",
       "    <tr>\n",
       "      <th>9</th>\n",
       "      <td>total_rooms</td>\n",
       "      <td>0.021772</td>\n",
       "    </tr>\n",
       "    <tr>\n",
       "      <th>8</th>\n",
       "      <td>total_bedrooms</td>\n",
       "      <td>0.016245</td>\n",
       "    </tr>\n",
       "    <tr>\n",
       "      <th>0</th>\n",
       "      <td>households</td>\n",
       "      <td>0.014953</td>\n",
       "    </tr>\n",
       "  </tbody>\n",
       "</table>\n",
       "</div>"
      ],
      "text/plain": [
       "                     feature  importance\n",
       "4              median_income    0.335668\n",
       "5  ocean_proximity=<1H OCEAN    0.292473\n",
       "2                   latitude    0.101891\n",
       "3                  longitude    0.086176\n",
       "6     ocean_proximity=INLAND    0.073806\n",
       "1         housing_median_age    0.030194\n",
       "7                 population    0.026821\n",
       "9                total_rooms    0.021772\n",
       "8             total_bedrooms    0.016245\n",
       "0                 households    0.014953"
      ]
     },
     "execution_count": 100,
     "metadata": {},
     "output_type": "execute_result"
    }
   ],
   "source": [
    "df_ft_importance"
   ]
  },
  {
   "cell_type": "markdown",
   "id": "7ef8d7a4",
   "metadata": {},
   "source": [
    "- What's the most important feature\n",
    "\n",
    "## Answer: \n",
    "- median_income"
   ]
  },
  {
   "cell_type": "markdown",
   "id": "1382de59",
   "metadata": {},
   "source": [
    "## Question 6\n",
    "\n",
    "Now let's train an XGBoost model! For this question, we'll tune the eta parameter:\n",
    "\n",
    "- Install XGBoost\n",
    "- Create DMatrix for train and validation\n",
    "- Create a watchlist\n",
    "- Train a model with these parameters for 100 rounds:"
   ]
  },
  {
   "cell_type": "code",
   "execution_count": 23,
   "id": "4f6b6990",
   "metadata": {},
   "outputs": [],
   "source": [
    "xgb_params = {\n",
    "    'eta': 0.3, \n",
    "    'max_depth': 6,\n",
    "    'min_child_weight': 1,\n",
    "    \n",
    "    'objective': 'reg:squarederror',\n",
    "    'nthread': 8,\n",
    "    \n",
    "    'seed': 1,\n",
    "    'verbosity': 1,\n",
    "}"
   ]
  },
  {
   "cell_type": "markdown",
   "id": "21ff67e8",
   "metadata": {},
   "source": [
    "Now change eta from 0.3 to 0.1.\n",
    "\n",
    "Which eta leads to the best RMSE score on the validation dataset?\n",
    "\n",
    "- 0.3\n",
    "- 0.1\n",
    "- Both give equal value"
   ]
  },
  {
   "cell_type": "code",
   "execution_count": 101,
   "id": "c50d8465",
   "metadata": {},
   "outputs": [],
   "source": [
    "import xgboost as xgb"
   ]
  },
  {
   "cell_type": "markdown",
   "id": "f5a9c2fc",
   "metadata": {},
   "source": [
    "DMatrix"
   ]
  },
  {
   "cell_type": "code",
   "execution_count": 106,
   "id": "753d043c",
   "metadata": {},
   "outputs": [
    {
     "name": "stderr",
     "output_type": "stream",
     "text": [
      "/home/timur/.local/lib/python3.8/site-packages/sklearn/utils/deprecation.py:87: FutureWarning: Function get_feature_names is deprecated; get_feature_names is deprecated in 1.0 and will be removed in 1.2. Please use get_feature_names_out instead.\n",
      "  warnings.warn(msg, category=FutureWarning)\n"
     ]
    },
    {
     "data": {
      "text/plain": [
       "['households',\n",
       " 'housing_median_age',\n",
       " 'latitude',\n",
       " 'longitude',\n",
       " 'median_income',\n",
       " 'ocean_proximity=<1H OCEAN',\n",
       " 'ocean_proximity=INLAND',\n",
       " 'population',\n",
       " 'total_bedrooms',\n",
       " 'total_rooms']"
      ]
     },
     "execution_count": 106,
     "metadata": {},
     "output_type": "execute_result"
    }
   ],
   "source": [
    "dv.get_feature_names()"
   ]
  },
  {
   "cell_type": "code",
   "execution_count": 112,
   "id": "47732020",
   "metadata": {},
   "outputs": [],
   "source": [
    "features = dv.feature_names_\n",
    "\n",
    "regex = re.compile(r\"<\", re.IGNORECASE)\n",
    "features = [regex.sub(\"_\", col) if any(x in str(col) for x in set(('[', ']', '<'))) else col for col in features]\n",
    "\n",
    "dtrain = xgb.DMatrix(X_train, label=y_train, feature_names=features)\n",
    "dval = xgb.DMatrix(X_val, label=y_val, feature_names=features)"
   ]
  },
  {
   "cell_type": "code",
   "execution_count": 113,
   "id": "682fb8c5",
   "metadata": {},
   "outputs": [],
   "source": [
    "watchlist = [(dtrain, 'train'), (dval, 'val')]\n",
    "scores = {}"
   ]
  },
  {
   "cell_type": "code",
   "execution_count": 114,
   "id": "2f26376f",
   "metadata": {},
   "outputs": [],
   "source": [
    "def parse_xgb_output(output):\n",
    "    results = []\n",
    "\n",
    "    for line in output.stdout.strip().split('\\n'):\n",
    "        it_line, train_line, val_line = line.split('\\t')\n",
    "\n",
    "        it = int(it_line.strip('[]'))\n",
    "        train = float(train_line.split(':')[1])\n",
    "        val = float(val_line.split(':')[1])\n",
    "\n",
    "        results.append((it, train, val))\n",
    "    \n",
    "    columns = ['num_iter', 'train_auc', 'val_auc']\n",
    "    df_results = pd.DataFrame(results, columns=columns)\n",
    "    return df_results\n",
    "     "
   ]
  },
  {
   "cell_type": "code",
   "execution_count": 115,
   "id": "a59d701b",
   "metadata": {},
   "outputs": [],
   "source": [
    "%%capture output\n",
    "\n",
    "xgb_params = {\n",
    "    'eta': 0.3, \n",
    "    'max_depth': 6,\n",
    "    'min_child_weight': 1,\n",
    "\n",
    "    'objective': 'reg:squarederror',\n",
    "    'nthread': 8,\n",
    "\n",
    "    'seed': 1,\n",
    "    'verbosity': 1,\n",
    "}\n",
    "\n",
    "model = xgb.train(xgb_params, dtrain, num_boost_round=100,\n",
    "                  verbose_eval=5, evals=watchlist)"
   ]
  },
  {
   "cell_type": "code",
   "execution_count": 116,
   "id": "b074bae9",
   "metadata": {},
   "outputs": [],
   "source": [
    "scores['eta=0.3'] = parse_xgb_output(output)"
   ]
  },
  {
   "cell_type": "code",
   "execution_count": 117,
   "id": "be4fe435",
   "metadata": {},
   "outputs": [],
   "source": [
    "%%capture output\n",
    "\n",
    "xgb_params = {\n",
    "    'eta': 0.1, \n",
    "    'max_depth': 6,\n",
    "    'min_child_weight': 1,\n",
    "\n",
    "    'objective': 'reg:squarederror',\n",
    "    'nthread': 8,\n",
    "\n",
    "    'seed': 1,\n",
    "    'verbosity': 1,\n",
    "}\n",
    "\n",
    "model = xgb.train(xgb_params, dtrain, num_boost_round=100,\n",
    "                  verbose_eval=5, evals=watchlist)"
   ]
  },
  {
   "cell_type": "code",
   "execution_count": 118,
   "id": "a835e51b",
   "metadata": {},
   "outputs": [],
   "source": [
    "scores['eta=0.1'] = parse_xgb_output(output)"
   ]
  },
  {
   "cell_type": "code",
   "execution_count": 119,
   "id": "ce17d8a6",
   "metadata": {},
   "outputs": [
    {
     "data": {
      "image/png": "[encoded data removed]",
      "text/plain": [
       "<Figure size 640x480 with 1 Axes>"
      ]
     },
     "metadata": {},
     "output_type": "display_data"
    }
   ],
   "source": [
    "plt.plot(scores['eta=0.1'].num_iter, scores['eta=0.1'].val_auc,\n",
    "        label='0.1')\n",
    "plt.plot(scores['eta=0.3'].num_iter, scores['eta=0.3'].val_auc,\n",
    "        label='0.3')\n",
    "plt.legend()\n",
    "plt.show()"
   ]
  },
  {
   "cell_type": "markdown",
   "id": "75543888",
   "metadata": {},
   "source": [
    "## Answer: \n",
    "\n",
    "- Both give equal value"
   ]
  }
 ],
 "metadata": {
  "kernelspec": {
   "display_name": "Python 3 (ipykernel)",
   "language": "python",
   "name": "python3"
  },
  "language_info": {
   "codemirror_mode": {
    "name": "ipython",
    "version": 3
   },
   "file_extension": ".py",
   "mimetype": "text/x-python",
   "name": "python",
   "nbconvert_exporter": "python",
   "pygments_lexer": "ipython3",
   "version": "3.8.10"
  }
 },
 "nbformat": 4,
 "nbformat_minor": 5
}
