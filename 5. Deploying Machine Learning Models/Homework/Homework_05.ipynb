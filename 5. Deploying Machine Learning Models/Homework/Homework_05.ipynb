{
 "cells": [
  {
   "cell_type": "markdown",
   "id": "a57b4e38",
   "metadata": {},
   "source": [
    "## Homework\n",
    "\n",
    "In this homework, we will use Bank credit scoring dataset from [here](https://www.kaggle.com/datasets/kapturovalexander/bank-credit-scoring/data)."
   ]
  },
  {
   "cell_type": "markdown",
   "id": "9d41f920",
   "metadata": {},
   "source": [
    "## Question 1\n",
    "\n",
    "- Install Pipenv\n",
    "- What's the version of pipenv you installed?\n",
    "- Use --version to find out"
   ]
  },
  {
   "cell_type": "markdown",
   "id": "150ded85",
   "metadata": {},
   "source": [
    "## Answer:"
   ]
  },
  {
   "attachments": {
    "image.png": {
     "image/png": "[encoded data removed]"
    }
   },
   "cell_type": "markdown",
   "id": "4886da11",
   "metadata": {},
   "source": [
    "![image.png](attachment:image.png)"
   ]
  },
  {
   "cell_type": "markdown",
   "id": "8058c654",
   "metadata": {},
   "source": [
    "## Question 2\n",
    "\n",
    "- Use Pipenv to install Scikit-Learn version 1.3.1\n",
    "- What's the first hash for scikit-learn you get in Pipfile.lock?"
   ]
  },
  {
   "cell_type": "markdown",
   "id": "a911a3fa",
   "metadata": {},
   "source": [
    "## Answer: \n",
    "- \"sha256:0c275a06c5190c5ce00af0acbb61c06374087949f643ef32d355ece12c4db043\"\n",
    "\n"
   ]
  },
  {
   "cell_type": "markdown",
   "id": "733c3612",
   "metadata": {},
   "source": [
    "## Question 3\n",
    "\n",
    "Let's use these models!\n",
    "\n",
    "- Write a script for loading these models with pickle\n",
    "- Score this client:\n",
    "\n",
    "{\"job\": \"retired\", \"duration\": 445, \"poutcome\": \"success\"}\n",
    "\n",
    "\n",
    "What's the probability that this client will get a credit?\n",
    "\n",
    "- 0.162\n",
    "- 0.392\n",
    "- 0.652\n",
    "- 0.902\n"
   ]
  },
  {
   "cell_type": "markdown",
   "id": "ca26b373",
   "metadata": {},
   "source": [
    "## Answer: \n",
    "\n",
    "- 0.902"
   ]
  },
  {
   "cell_type": "markdown",
   "id": "ea85767a",
   "metadata": {},
   "source": [
    "## Question 4\n",
    "\n",
    "Now let's serve this model as a web service\n",
    "\n",
    "- Install Flask and gunicorn (or waitress, if you're on Windows)\n",
    "- Write Flask code for serving the model\n",
    "- Now score this client using requests:"
   ]
  },
  {
   "cell_type": "markdown",
   "id": "b837eb6e",
   "metadata": {},
   "source": [
    "url = \"YOUR_URL\"\n",
    "\n",
    "client = {\"job\": \"unknown\", \"duration\": 270, \"poutcome\": \"failure\"}\n",
    "\n",
    "requests.post(url, json=client).json()"
   ]
  },
  {
   "cell_type": "markdown",
   "id": "192a3960",
   "metadata": {},
   "source": [
    "What's the probability that this client will get a credit?\n",
    "\n",
    "- 0.140\n",
    "- 0.440\n",
    "- 0.645\n",
    "- 0.845"
   ]
  },
  {
   "cell_type": "markdown",
   "id": "5e5a5b82",
   "metadata": {},
   "source": [
    "## Answer\n",
    "\n",
    "- 0.140"
   ]
  },
  {
   "cell_type": "markdown",
   "id": "370a1a84",
   "metadata": {},
   "source": [
    "## Question 5:\n",
    "\n",
    "Download the base image svizor/zoomcamp-model:3.10.12-slim. You can easily make it by using docker pull command.\n",
    "\n",
    "So what's the size of this base image?\n",
    "\n",
    "- 47 MB\n",
    "- 147 MB\n",
    "- 374 MB\n",
    "- 574 MB"
   ]
  },
  {
   "attachments": {
    "image.png": {
     "image/png": "[encoded data removed]"
    }
   },
   "cell_type": "markdown",
   "id": "a9cf8039",
   "metadata": {},
   "source": [
    "![image.png](attachment:image.png)"
   ]
  },
  {
   "cell_type": "markdown",
   "id": "ee27221f",
   "metadata": {},
   "source": [
    "## Answer: \n",
    "\n",
    "- 147 MB"
   ]
  },
  {
   "cell_type": "markdown",
   "id": "f79a90b0",
   "metadata": {},
   "source": [
    "## Question 6\n",
    "\n",
    "Let's run your docker container!\n",
    "\n",
    "After running it, score this client once again:\n",
    "\n",
    "url = \"YOUR_URL\"\n",
    "\n",
    "client = {\"job\": \"retired\", \"duration\": 445, \"poutcome\": \"success\"}\n",
    "\n",
    "requests.post(url, json=client).json()\n",
    "\n",
    "\n",
    "What's the probability that this client will get a credit now?\n",
    "\n",
    "- 0.168\n",
    "- 0.530\n",
    "- 0.730\n",
    "- 0.968"
   ]
  },
  {
   "cell_type": "markdown",
   "id": "8a94b08d",
   "metadata": {},
   "source": [
    "## Answer:\n",
    "\n",
    "- 0.968"
   ]
  }
 ],
 "metadata": {
  "kernelspec": {
   "display_name": "Python 3 (ipykernel)",
   "language": "python",
   "name": "python3"
  },
  "language_info": {
   "codemirror_mode": {
    "name": "ipython",
    "version": 3
   },
   "file_extension": ".py",
   "mimetype": "text/x-python",
   "name": "python",
   "nbconvert_exporter": "python",
   "pygments_lexer": "ipython3",
   "version": "3.8.10"
  }
 },
 "nbformat": 4,
 "nbformat_minor": 5
}
